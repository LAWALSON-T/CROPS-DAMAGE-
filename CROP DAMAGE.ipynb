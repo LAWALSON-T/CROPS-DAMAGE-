{
 "cells": [
  {
   "cell_type": "markdown",
   "id": "2a448eee",
   "metadata": {},
   "source": [
    "# OVERVIEW"
   ]
  },
  {
   "cell_type": "markdown",
   "id": "04fed9b0",
   "metadata": {},
   "source": [
    "Many factors lead to a succesful harvest , while alot of these factors are difficult to control, measures can be taken to improve the potential of a succesful yield. Factors such as soil type,soil fertility ,Favourable weather condition , season and pesticides/pest control among others are factors Farmers pay keen interest to as they are more within their control and professional judgement.\n",
    "\n",
    "This project takes look at most of these conditions , with focus on pesticide use, type and frequency. Pestiscide use must be controlled as too much deem crops damaged and unperishable , too little defeats the purpose of its use which is pest control.\n",
    "\n",
    "This data is based on crops harvested by various farmers at the end of harvest season and our desire to predict the outcome of these harvest taking into account the factors presented to us. As well as the cause for the crop damages recorded"
   ]
  },
  {
   "cell_type": "markdown",
   "id": "9e92ea8a",
   "metadata": {},
   "source": [
    "### Libraries"
   ]
  },
  {
   "cell_type": "code",
   "execution_count": 1,
   "id": "9ae64d2e",
   "metadata": {},
   "outputs": [],
   "source": [
    "import pandas as pd\n",
    "import matplotlib.pyplot as plt\n",
    "import numpy as np\n",
    "import seaborn as sns\n",
    "from sklearn.model_selection import KFold\n",
    "from sklearn.model_selection import cross_val_score\n",
    "from sklearn.tree import DecisionTreeClassifier\n",
    "from sklearn.ensemble import RandomForestClassifier, VotingClassifier\n",
    "from sklearn.ensemble import BaggingClassifier\n",
    "import warnings\n",
    "warnings.filterwarnings(\"ignore\")"
   ]
  },
  {
   "cell_type": "code",
   "execution_count": 2,
   "id": "43c8f176",
   "metadata": {},
   "outputs": [],
   "source": [
    "data=pd.read_csv('sample/train_yaOffsB.csv')"
   ]
  },
  {
   "cell_type": "code",
   "execution_count": 3,
   "id": "679522e6",
   "metadata": {},
   "outputs": [
    {
     "data": {
      "text/html": [
       "<div>\n",
       "<style scoped>\n",
       "    .dataframe tbody tr th:only-of-type {\n",
       "        vertical-align: middle;\n",
       "    }\n",
       "\n",
       "    .dataframe tbody tr th {\n",
       "        vertical-align: top;\n",
       "    }\n",
       "\n",
       "    .dataframe thead th {\n",
       "        text-align: right;\n",
       "    }\n",
       "</style>\n",
       "<table border=\"1\" class=\"dataframe\">\n",
       "  <thead>\n",
       "    <tr style=\"text-align: right;\">\n",
       "      <th></th>\n",
       "      <th>ID</th>\n",
       "      <th>Estimated_Insects_Count</th>\n",
       "      <th>Crop_Type</th>\n",
       "      <th>Soil_Type</th>\n",
       "      <th>Pesticide_Use_Category</th>\n",
       "      <th>Number_Doses_Week</th>\n",
       "      <th>Number_Weeks_Used</th>\n",
       "      <th>Number_Weeks_Quit</th>\n",
       "      <th>Season</th>\n",
       "      <th>Crop_Damage</th>\n",
       "    </tr>\n",
       "  </thead>\n",
       "  <tbody>\n",
       "    <tr>\n",
       "      <th>0</th>\n",
       "      <td>F00000001</td>\n",
       "      <td>188</td>\n",
       "      <td>1</td>\n",
       "      <td>0</td>\n",
       "      <td>1</td>\n",
       "      <td>0</td>\n",
       "      <td>0.0</td>\n",
       "      <td>0</td>\n",
       "      <td>1</td>\n",
       "      <td>0</td>\n",
       "    </tr>\n",
       "    <tr>\n",
       "      <th>1</th>\n",
       "      <td>F00000003</td>\n",
       "      <td>209</td>\n",
       "      <td>1</td>\n",
       "      <td>0</td>\n",
       "      <td>1</td>\n",
       "      <td>0</td>\n",
       "      <td>0.0</td>\n",
       "      <td>0</td>\n",
       "      <td>2</td>\n",
       "      <td>1</td>\n",
       "    </tr>\n",
       "    <tr>\n",
       "      <th>2</th>\n",
       "      <td>F00000004</td>\n",
       "      <td>257</td>\n",
       "      <td>1</td>\n",
       "      <td>0</td>\n",
       "      <td>1</td>\n",
       "      <td>0</td>\n",
       "      <td>0.0</td>\n",
       "      <td>0</td>\n",
       "      <td>2</td>\n",
       "      <td>1</td>\n",
       "    </tr>\n",
       "    <tr>\n",
       "      <th>3</th>\n",
       "      <td>F00000005</td>\n",
       "      <td>257</td>\n",
       "      <td>1</td>\n",
       "      <td>1</td>\n",
       "      <td>1</td>\n",
       "      <td>0</td>\n",
       "      <td>0.0</td>\n",
       "      <td>0</td>\n",
       "      <td>2</td>\n",
       "      <td>1</td>\n",
       "    </tr>\n",
       "    <tr>\n",
       "      <th>4</th>\n",
       "      <td>F00000006</td>\n",
       "      <td>342</td>\n",
       "      <td>1</td>\n",
       "      <td>0</td>\n",
       "      <td>1</td>\n",
       "      <td>0</td>\n",
       "      <td>0.0</td>\n",
       "      <td>0</td>\n",
       "      <td>2</td>\n",
       "      <td>1</td>\n",
       "    </tr>\n",
       "  </tbody>\n",
       "</table>\n",
       "</div>"
      ],
      "text/plain": [
       "          ID  Estimated_Insects_Count  Crop_Type  Soil_Type  \\\n",
       "0  F00000001                      188          1          0   \n",
       "1  F00000003                      209          1          0   \n",
       "2  F00000004                      257          1          0   \n",
       "3  F00000005                      257          1          1   \n",
       "4  F00000006                      342          1          0   \n",
       "\n",
       "   Pesticide_Use_Category  Number_Doses_Week  Number_Weeks_Used  \\\n",
       "0                       1                  0                0.0   \n",
       "1                       1                  0                0.0   \n",
       "2                       1                  0                0.0   \n",
       "3                       1                  0                0.0   \n",
       "4                       1                  0                0.0   \n",
       "\n",
       "   Number_Weeks_Quit  Season  Crop_Damage  \n",
       "0                  0       1            0  \n",
       "1                  0       2            1  \n",
       "2                  0       2            1  \n",
       "3                  0       2            1  \n",
       "4                  0       2            1  "
      ]
     },
     "execution_count": 3,
     "metadata": {},
     "output_type": "execute_result"
    }
   ],
   "source": [
    "data.head()"
   ]
  },
  {
   "cell_type": "code",
   "execution_count": 4,
   "id": "9a649e88",
   "metadata": {},
   "outputs": [
    {
     "data": {
      "text/html": [
       "<div>\n",
       "<style scoped>\n",
       "    .dataframe tbody tr th:only-of-type {\n",
       "        vertical-align: middle;\n",
       "    }\n",
       "\n",
       "    .dataframe tbody tr th {\n",
       "        vertical-align: top;\n",
       "    }\n",
       "\n",
       "    .dataframe thead th {\n",
       "        text-align: right;\n",
       "    }\n",
       "</style>\n",
       "<table border=\"1\" class=\"dataframe\">\n",
       "  <thead>\n",
       "    <tr style=\"text-align: right;\">\n",
       "      <th></th>\n",
       "      <th>ID</th>\n",
       "      <th>Estimated_Insects_Count</th>\n",
       "      <th>Crop_Type</th>\n",
       "      <th>Soil_Type</th>\n",
       "      <th>Pesticide_Use_Category</th>\n",
       "      <th>Number_Doses_Week</th>\n",
       "      <th>Number_Weeks_Used</th>\n",
       "      <th>Number_Weeks_Quit</th>\n",
       "      <th>Season</th>\n",
       "      <th>Crop_Damage</th>\n",
       "    </tr>\n",
       "  </thead>\n",
       "  <tbody>\n",
       "    <tr>\n",
       "      <th>88853</th>\n",
       "      <td>F00155935</td>\n",
       "      <td>3337</td>\n",
       "      <td>1</td>\n",
       "      <td>0</td>\n",
       "      <td>2</td>\n",
       "      <td>10</td>\n",
       "      <td>12.0</td>\n",
       "      <td>44</td>\n",
       "      <td>3</td>\n",
       "      <td>0</td>\n",
       "    </tr>\n",
       "    <tr>\n",
       "      <th>88854</th>\n",
       "      <td>F00155938</td>\n",
       "      <td>3516</td>\n",
       "      <td>1</td>\n",
       "      <td>0</td>\n",
       "      <td>2</td>\n",
       "      <td>10</td>\n",
       "      <td>20.0</td>\n",
       "      <td>38</td>\n",
       "      <td>1</td>\n",
       "      <td>0</td>\n",
       "    </tr>\n",
       "    <tr>\n",
       "      <th>88855</th>\n",
       "      <td>F00155939</td>\n",
       "      <td>3516</td>\n",
       "      <td>1</td>\n",
       "      <td>0</td>\n",
       "      <td>2</td>\n",
       "      <td>15</td>\n",
       "      <td>40.0</td>\n",
       "      <td>8</td>\n",
       "      <td>2</td>\n",
       "      <td>0</td>\n",
       "    </tr>\n",
       "    <tr>\n",
       "      <th>88856</th>\n",
       "      <td>F00155942</td>\n",
       "      <td>3702</td>\n",
       "      <td>1</td>\n",
       "      <td>0</td>\n",
       "      <td>2</td>\n",
       "      <td>10</td>\n",
       "      <td>25.0</td>\n",
       "      <td>18</td>\n",
       "      <td>3</td>\n",
       "      <td>0</td>\n",
       "    </tr>\n",
       "    <tr>\n",
       "      <th>88857</th>\n",
       "      <td>F00155945</td>\n",
       "      <td>3895</td>\n",
       "      <td>1</td>\n",
       "      <td>0</td>\n",
       "      <td>2</td>\n",
       "      <td>20</td>\n",
       "      <td>37.0</td>\n",
       "      <td>7</td>\n",
       "      <td>3</td>\n",
       "      <td>0</td>\n",
       "    </tr>\n",
       "  </tbody>\n",
       "</table>\n",
       "</div>"
      ],
      "text/plain": [
       "              ID  Estimated_Insects_Count  Crop_Type  Soil_Type  \\\n",
       "88853  F00155935                     3337          1          0   \n",
       "88854  F00155938                     3516          1          0   \n",
       "88855  F00155939                     3516          1          0   \n",
       "88856  F00155942                     3702          1          0   \n",
       "88857  F00155945                     3895          1          0   \n",
       "\n",
       "       Pesticide_Use_Category  Number_Doses_Week  Number_Weeks_Used  \\\n",
       "88853                       2                 10               12.0   \n",
       "88854                       2                 10               20.0   \n",
       "88855                       2                 15               40.0   \n",
       "88856                       2                 10               25.0   \n",
       "88857                       2                 20               37.0   \n",
       "\n",
       "       Number_Weeks_Quit  Season  Crop_Damage  \n",
       "88853                 44       3            0  \n",
       "88854                 38       1            0  \n",
       "88855                  8       2            0  \n",
       "88856                 18       3            0  \n",
       "88857                  7       3            0  "
      ]
     },
     "execution_count": 4,
     "metadata": {},
     "output_type": "execute_result"
    }
   ],
   "source": [
    "data.tail()"
   ]
  },
  {
   "cell_type": "code",
   "execution_count": 5,
   "id": "774a775f",
   "metadata": {},
   "outputs": [
    {
     "data": {
      "text/plain": [
       "(88858, 10)"
      ]
     },
     "execution_count": 5,
     "metadata": {},
     "output_type": "execute_result"
    }
   ],
   "source": [
    "data.shape"
   ]
  },
  {
   "cell_type": "code",
   "execution_count": 6,
   "id": "15ecf974",
   "metadata": {},
   "outputs": [
    {
     "data": {
      "text/html": [
       "<div>\n",
       "<style scoped>\n",
       "    .dataframe tbody tr th:only-of-type {\n",
       "        vertical-align: middle;\n",
       "    }\n",
       "\n",
       "    .dataframe tbody tr th {\n",
       "        vertical-align: top;\n",
       "    }\n",
       "\n",
       "    .dataframe thead th {\n",
       "        text-align: right;\n",
       "    }\n",
       "</style>\n",
       "<table border=\"1\" class=\"dataframe\">\n",
       "  <thead>\n",
       "    <tr style=\"text-align: right;\">\n",
       "      <th></th>\n",
       "      <th>Estimated_Insects_Count</th>\n",
       "      <th>Crop_Type</th>\n",
       "      <th>Soil_Type</th>\n",
       "      <th>Pesticide_Use_Category</th>\n",
       "      <th>Number_Doses_Week</th>\n",
       "      <th>Number_Weeks_Used</th>\n",
       "      <th>Number_Weeks_Quit</th>\n",
       "      <th>Season</th>\n",
       "      <th>Crop_Damage</th>\n",
       "    </tr>\n",
       "  </thead>\n",
       "  <tbody>\n",
       "    <tr>\n",
       "      <th>count</th>\n",
       "      <td>88858.000000</td>\n",
       "      <td>88858.000000</td>\n",
       "      <td>88858.000000</td>\n",
       "      <td>88858.000000</td>\n",
       "      <td>88858.000000</td>\n",
       "      <td>79858.000000</td>\n",
       "      <td>88858.000000</td>\n",
       "      <td>88858.000000</td>\n",
       "      <td>88858.000000</td>\n",
       "    </tr>\n",
       "    <tr>\n",
       "      <th>mean</th>\n",
       "      <td>1399.012210</td>\n",
       "      <td>0.284375</td>\n",
       "      <td>0.458417</td>\n",
       "      <td>2.264186</td>\n",
       "      <td>25.849952</td>\n",
       "      <td>28.623970</td>\n",
       "      <td>9.589986</td>\n",
       "      <td>1.896959</td>\n",
       "      <td>0.190562</td>\n",
       "    </tr>\n",
       "    <tr>\n",
       "      <th>std</th>\n",
       "      <td>849.048781</td>\n",
       "      <td>0.451119</td>\n",
       "      <td>0.498271</td>\n",
       "      <td>0.461772</td>\n",
       "      <td>15.554428</td>\n",
       "      <td>12.391881</td>\n",
       "      <td>9.900631</td>\n",
       "      <td>0.701322</td>\n",
       "      <td>0.454215</td>\n",
       "    </tr>\n",
       "    <tr>\n",
       "      <th>min</th>\n",
       "      <td>150.000000</td>\n",
       "      <td>0.000000</td>\n",
       "      <td>0.000000</td>\n",
       "      <td>1.000000</td>\n",
       "      <td>0.000000</td>\n",
       "      <td>0.000000</td>\n",
       "      <td>0.000000</td>\n",
       "      <td>1.000000</td>\n",
       "      <td>0.000000</td>\n",
       "    </tr>\n",
       "    <tr>\n",
       "      <th>25%</th>\n",
       "      <td>731.000000</td>\n",
       "      <td>0.000000</td>\n",
       "      <td>0.000000</td>\n",
       "      <td>2.000000</td>\n",
       "      <td>15.000000</td>\n",
       "      <td>20.000000</td>\n",
       "      <td>0.000000</td>\n",
       "      <td>1.000000</td>\n",
       "      <td>0.000000</td>\n",
       "    </tr>\n",
       "    <tr>\n",
       "      <th>50%</th>\n",
       "      <td>1212.000000</td>\n",
       "      <td>0.000000</td>\n",
       "      <td>0.000000</td>\n",
       "      <td>2.000000</td>\n",
       "      <td>20.000000</td>\n",
       "      <td>28.000000</td>\n",
       "      <td>7.000000</td>\n",
       "      <td>2.000000</td>\n",
       "      <td>0.000000</td>\n",
       "    </tr>\n",
       "    <tr>\n",
       "      <th>75%</th>\n",
       "      <td>1898.000000</td>\n",
       "      <td>1.000000</td>\n",
       "      <td>1.000000</td>\n",
       "      <td>3.000000</td>\n",
       "      <td>40.000000</td>\n",
       "      <td>37.000000</td>\n",
       "      <td>16.000000</td>\n",
       "      <td>2.000000</td>\n",
       "      <td>0.000000</td>\n",
       "    </tr>\n",
       "    <tr>\n",
       "      <th>max</th>\n",
       "      <td>4097.000000</td>\n",
       "      <td>1.000000</td>\n",
       "      <td>1.000000</td>\n",
       "      <td>3.000000</td>\n",
       "      <td>95.000000</td>\n",
       "      <td>67.000000</td>\n",
       "      <td>50.000000</td>\n",
       "      <td>3.000000</td>\n",
       "      <td>2.000000</td>\n",
       "    </tr>\n",
       "  </tbody>\n",
       "</table>\n",
       "</div>"
      ],
      "text/plain": [
       "       Estimated_Insects_Count     Crop_Type     Soil_Type  \\\n",
       "count             88858.000000  88858.000000  88858.000000   \n",
       "mean               1399.012210      0.284375      0.458417   \n",
       "std                 849.048781      0.451119      0.498271   \n",
       "min                 150.000000      0.000000      0.000000   \n",
       "25%                 731.000000      0.000000      0.000000   \n",
       "50%                1212.000000      0.000000      0.000000   \n",
       "75%                1898.000000      1.000000      1.000000   \n",
       "max                4097.000000      1.000000      1.000000   \n",
       "\n",
       "       Pesticide_Use_Category  Number_Doses_Week  Number_Weeks_Used  \\\n",
       "count            88858.000000       88858.000000       79858.000000   \n",
       "mean                 2.264186          25.849952          28.623970   \n",
       "std                  0.461772          15.554428          12.391881   \n",
       "min                  1.000000           0.000000           0.000000   \n",
       "25%                  2.000000          15.000000          20.000000   \n",
       "50%                  2.000000          20.000000          28.000000   \n",
       "75%                  3.000000          40.000000          37.000000   \n",
       "max                  3.000000          95.000000          67.000000   \n",
       "\n",
       "       Number_Weeks_Quit        Season   Crop_Damage  \n",
       "count       88858.000000  88858.000000  88858.000000  \n",
       "mean            9.589986      1.896959      0.190562  \n",
       "std             9.900631      0.701322      0.454215  \n",
       "min             0.000000      1.000000      0.000000  \n",
       "25%             0.000000      1.000000      0.000000  \n",
       "50%             7.000000      2.000000      0.000000  \n",
       "75%            16.000000      2.000000      0.000000  \n",
       "max            50.000000      3.000000      2.000000  "
      ]
     },
     "execution_count": 6,
     "metadata": {},
     "output_type": "execute_result"
    }
   ],
   "source": [
    "data.describe()"
   ]
  },
  {
   "cell_type": "code",
   "execution_count": 7,
   "id": "3e65f1d7",
   "metadata": {},
   "outputs": [
    {
     "name": "stdout",
     "output_type": "stream",
     "text": [
      "<class 'pandas.core.frame.DataFrame'>\n",
      "RangeIndex: 88858 entries, 0 to 88857\n",
      "Data columns (total 10 columns):\n",
      " #   Column                   Non-Null Count  Dtype  \n",
      "---  ------                   --------------  -----  \n",
      " 0   ID                       88858 non-null  object \n",
      " 1   Estimated_Insects_Count  88858 non-null  int64  \n",
      " 2   Crop_Type                88858 non-null  int64  \n",
      " 3   Soil_Type                88858 non-null  int64  \n",
      " 4   Pesticide_Use_Category   88858 non-null  int64  \n",
      " 5   Number_Doses_Week        88858 non-null  int64  \n",
      " 6   Number_Weeks_Used        79858 non-null  float64\n",
      " 7   Number_Weeks_Quit        88858 non-null  int64  \n",
      " 8   Season                   88858 non-null  int64  \n",
      " 9   Crop_Damage              88858 non-null  int64  \n",
      "dtypes: float64(1), int64(8), object(1)\n",
      "memory usage: 6.8+ MB\n"
     ]
    }
   ],
   "source": [
    "data.info()"
   ]
  },
  {
   "cell_type": "code",
   "execution_count": 8,
   "id": "4a66d39c",
   "metadata": {},
   "outputs": [
    {
     "data": {
      "text/plain": [
       "ID                            0\n",
       "Estimated_Insects_Count       0\n",
       "Crop_Type                     0\n",
       "Soil_Type                     0\n",
       "Pesticide_Use_Category        0\n",
       "Number_Doses_Week             0\n",
       "Number_Weeks_Used          9000\n",
       "Number_Weeks_Quit             0\n",
       "Season                        0\n",
       "Crop_Damage                   0\n",
       "dtype: int64"
      ]
     },
     "execution_count": 8,
     "metadata": {},
     "output_type": "execute_result"
    }
   ],
   "source": [
    "data.isnull().sum()"
   ]
  },
  {
   "cell_type": "code",
   "execution_count": 9,
   "id": "b0bee166",
   "metadata": {},
   "outputs": [
    {
     "data": {
      "text/plain": [
       "Index(['ID', 'Estimated_Insects_Count', 'Crop_Type', 'Soil_Type',\n",
       "       'Pesticide_Use_Category', 'Number_Doses_Week', 'Number_Weeks_Used',\n",
       "       'Number_Weeks_Quit', 'Season', 'Crop_Damage'],\n",
       "      dtype='object')"
      ]
     },
     "execution_count": 9,
     "metadata": {},
     "output_type": "execute_result"
    }
   ],
   "source": [
    "data.columns"
   ]
  },
  {
   "cell_type": "markdown",
   "id": "3aab4b26",
   "metadata": {},
   "source": [
    "### DATA ANALYSIS"
   ]
  },
  {
   "cell_type": "code",
   "execution_count": 10,
   "id": "cd8b0cd0",
   "metadata": {},
   "outputs": [
    {
     "data": {
      "text/html": [
       "<div>\n",
       "<style scoped>\n",
       "    .dataframe tbody tr th:only-of-type {\n",
       "        vertical-align: middle;\n",
       "    }\n",
       "\n",
       "    .dataframe tbody tr th {\n",
       "        vertical-align: top;\n",
       "    }\n",
       "\n",
       "    .dataframe thead th {\n",
       "        text-align: right;\n",
       "    }\n",
       "</style>\n",
       "<table border=\"1\" class=\"dataframe\">\n",
       "  <thead>\n",
       "    <tr style=\"text-align: right;\">\n",
       "      <th></th>\n",
       "      <th>data_type</th>\n",
       "      <th>null_count</th>\n",
       "      <th>unique_count</th>\n",
       "    </tr>\n",
       "  </thead>\n",
       "  <tbody>\n",
       "    <tr>\n",
       "      <th>ID</th>\n",
       "      <td>object</td>\n",
       "      <td>0</td>\n",
       "      <td>88858</td>\n",
       "    </tr>\n",
       "    <tr>\n",
       "      <th>Estimated_Insects_Count</th>\n",
       "      <td>int64</td>\n",
       "      <td>0</td>\n",
       "      <td>71</td>\n",
       "    </tr>\n",
       "    <tr>\n",
       "      <th>Crop_Type</th>\n",
       "      <td>int64</td>\n",
       "      <td>0</td>\n",
       "      <td>2</td>\n",
       "    </tr>\n",
       "    <tr>\n",
       "      <th>Soil_Type</th>\n",
       "      <td>int64</td>\n",
       "      <td>0</td>\n",
       "      <td>2</td>\n",
       "    </tr>\n",
       "    <tr>\n",
       "      <th>Pesticide_Use_Category</th>\n",
       "      <td>int64</td>\n",
       "      <td>0</td>\n",
       "      <td>3</td>\n",
       "    </tr>\n",
       "    <tr>\n",
       "      <th>Number_Doses_Week</th>\n",
       "      <td>int64</td>\n",
       "      <td>0</td>\n",
       "      <td>20</td>\n",
       "    </tr>\n",
       "    <tr>\n",
       "      <th>Number_Weeks_Used</th>\n",
       "      <td>float64</td>\n",
       "      <td>9000</td>\n",
       "      <td>64</td>\n",
       "    </tr>\n",
       "    <tr>\n",
       "      <th>Number_Weeks_Quit</th>\n",
       "      <td>int64</td>\n",
       "      <td>0</td>\n",
       "      <td>51</td>\n",
       "    </tr>\n",
       "    <tr>\n",
       "      <th>Season</th>\n",
       "      <td>int64</td>\n",
       "      <td>0</td>\n",
       "      <td>3</td>\n",
       "    </tr>\n",
       "    <tr>\n",
       "      <th>Crop_Damage</th>\n",
       "      <td>int64</td>\n",
       "      <td>0</td>\n",
       "      <td>3</td>\n",
       "    </tr>\n",
       "  </tbody>\n",
       "</table>\n",
       "</div>"
      ],
      "text/plain": [
       "                        data_type  null_count  unique_count\n",
       "ID                         object           0         88858\n",
       "Estimated_Insects_Count     int64           0            71\n",
       "Crop_Type                   int64           0             2\n",
       "Soil_Type                   int64           0             2\n",
       "Pesticide_Use_Category      int64           0             3\n",
       "Number_Doses_Week           int64           0            20\n",
       "Number_Weeks_Used         float64        9000            64\n",
       "Number_Weeks_Quit           int64           0            51\n",
       "Season                      int64           0             3\n",
       "Crop_Damage                 int64           0             3"
      ]
     },
     "execution_count": 10,
     "metadata": {},
     "output_type": "execute_result"
    }
   ],
   "source": [
    "result = pd.DataFrame(index = data.columns)\n",
    "result['data_type']=data.dtypes\n",
    "result['null_count']=data.isnull().sum()\n",
    "result['unique_count']=data.nunique()\n",
    "result"
   ]
  },
  {
   "cell_type": "markdown",
   "id": "6ed67b99",
   "metadata": {},
   "source": [
    "lets analyze the null values with other correlating factors so as to deduce what to fill it with"
   ]
  },
  {
   "cell_type": "code",
   "execution_count": 11,
   "id": "f8f2e333",
   "metadata": {},
   "outputs": [
    {
     "data": {
      "text/html": [
       "<div>\n",
       "<style scoped>\n",
       "    .dataframe tbody tr th:only-of-type {\n",
       "        vertical-align: middle;\n",
       "    }\n",
       "\n",
       "    .dataframe tbody tr th {\n",
       "        vertical-align: top;\n",
       "    }\n",
       "\n",
       "    .dataframe thead th {\n",
       "        text-align: right;\n",
       "    }\n",
       "</style>\n",
       "<table border=\"1\" class=\"dataframe\">\n",
       "  <thead>\n",
       "    <tr style=\"text-align: right;\">\n",
       "      <th></th>\n",
       "      <th>Number_Weeks_Used</th>\n",
       "    </tr>\n",
       "    <tr>\n",
       "      <th>Pesticide_Use_Category</th>\n",
       "      <th></th>\n",
       "    </tr>\n",
       "  </thead>\n",
       "  <tbody>\n",
       "    <tr>\n",
       "      <th>1</th>\n",
       "      <td>0.0</td>\n",
       "    </tr>\n",
       "    <tr>\n",
       "      <th>2</th>\n",
       "      <td>1523262.0</td>\n",
       "    </tr>\n",
       "    <tr>\n",
       "      <th>3</th>\n",
       "      <td>762591.0</td>\n",
       "    </tr>\n",
       "  </tbody>\n",
       "</table>\n",
       "</div>"
      ],
      "text/plain": [
       "                        Number_Weeks_Used\n",
       "Pesticide_Use_Category                   \n",
       "1                                     0.0\n",
       "2                               1523262.0\n",
       "3                                762591.0"
      ]
     },
     "execution_count": 11,
     "metadata": {},
     "output_type": "execute_result"
    }
   ],
   "source": [
    "table = pd.pivot_table(data=data,index='Pesticide_Use_Category',values='Number_Weeks_Used',aggfunc=np.sum)\n",
    "table"
   ]
  },
  {
   "cell_type": "markdown",
   "id": "95ea7038",
   "metadata": {},
   "source": [
    "we can deduce that pesticide_use_category 1 is zero , that is pesticide wasnt used at all"
   ]
  },
  {
   "cell_type": "code",
   "execution_count": 12,
   "id": "5bf1db1a",
   "metadata": {},
   "outputs": [
    {
     "data": {
      "text/html": [
       "<div>\n",
       "<style scoped>\n",
       "    .dataframe tbody tr th:only-of-type {\n",
       "        vertical-align: middle;\n",
       "    }\n",
       "\n",
       "    .dataframe tbody tr th {\n",
       "        vertical-align: top;\n",
       "    }\n",
       "\n",
       "    .dataframe thead th {\n",
       "        text-align: right;\n",
       "    }\n",
       "</style>\n",
       "<table border=\"1\" class=\"dataframe\">\n",
       "  <thead>\n",
       "    <tr style=\"text-align: right;\">\n",
       "      <th></th>\n",
       "      <th>Number_Weeks_Used</th>\n",
       "    </tr>\n",
       "    <tr>\n",
       "      <th>Soil_Type</th>\n",
       "      <th></th>\n",
       "    </tr>\n",
       "  </thead>\n",
       "  <tbody>\n",
       "    <tr>\n",
       "      <th>0</th>\n",
       "      <td>1270043.0</td>\n",
       "    </tr>\n",
       "    <tr>\n",
       "      <th>1</th>\n",
       "      <td>1015810.0</td>\n",
       "    </tr>\n",
       "  </tbody>\n",
       "</table>\n",
       "</div>"
      ],
      "text/plain": [
       "           Number_Weeks_Used\n",
       "Soil_Type                   \n",
       "0                  1270043.0\n",
       "1                  1015810.0"
      ]
     },
     "execution_count": 12,
     "metadata": {},
     "output_type": "execute_result"
    }
   ],
   "source": [
    "table1 = pd.pivot_table(data=data,index='Soil_Type',values='Number_Weeks_Used',aggfunc=np.sum)\n",
    "table1"
   ]
  },
  {
   "cell_type": "code",
   "execution_count": 13,
   "id": "5d063338",
   "metadata": {},
   "outputs": [
    {
     "data": {
      "text/plain": [
       "0    20.0\n",
       "dtype: float64"
      ]
     },
     "execution_count": 13,
     "metadata": {},
     "output_type": "execute_result"
    }
   ],
   "source": [
    "maximum_no = data['Number_Weeks_Used'].mode()\n",
    "maximum_no"
   ]
  },
  {
   "cell_type": "markdown",
   "id": "73298095",
   "metadata": {},
   "source": [
    "From the above, for Pesticide_Use_Category 1:- Number of weeks pesticide was used is zero\n",
    "    \n",
    "And for other Pesticide_Use_Category :- Number of weeks pesticide was used is considered as 20\n",
    "    \n"
   ]
  },
  {
   "cell_type": "code",
   "execution_count": 15,
   "id": "ba45e128",
   "metadata": {},
   "outputs": [],
   "source": [
    "for i in range(0,len(data)):\n",
    "    if pd.isnull(data['Number_Weeks_Used'][i])==True:\n",
    "        if (data['Pesticide_Use_Category'][i] == 1):\n",
    "            data['Number_Weeks_Used'][i] = 0.0\n",
    "        else:\n",
    "            data['Number_Weeks_Used'][i] = 20.0"
   ]
  },
  {
   "cell_type": "code",
   "execution_count": 17,
   "id": "34b96af7",
   "metadata": {},
   "outputs": [
    {
     "data": {
      "text/plain": [
       "ID                         0\n",
       "Estimated_Insects_Count    0\n",
       "Crop_Type                  0\n",
       "Soil_Type                  0\n",
       "Pesticide_Use_Category     0\n",
       "Number_Doses_Week          0\n",
       "Number_Weeks_Used          0\n",
       "Number_Weeks_Quit          0\n",
       "Season                     0\n",
       "Crop_Damage                0\n",
       "dtype: int64"
      ]
     },
     "execution_count": 17,
     "metadata": {},
     "output_type": "execute_result"
    }
   ],
   "source": [
    "data.isnull().sum()"
   ]
  },
  {
   "cell_type": "markdown",
   "id": "c61e2cd1",
   "metadata": {},
   "source": [
    "we have filled in the null nalues"
   ]
  },
  {
   "cell_type": "code",
   "execution_count": 20,
   "id": "05622b46",
   "metadata": {},
   "outputs": [],
   "source": [
    "# as a numerical value it should not be in float format\n",
    "data=data.astype({'Number_Weeks_Used':'int64'})"
   ]
  },
  {
   "cell_type": "markdown",
   "id": "809954e6",
   "metadata": {},
   "source": [
    "lets see if there are more correlation between the columns "
   ]
  },
  {
   "cell_type": "code",
   "execution_count": 21,
   "id": "6240df78",
   "metadata": {},
   "outputs": [
    {
     "data": {
      "text/html": [
       "<div>\n",
       "<style scoped>\n",
       "    .dataframe tbody tr th:only-of-type {\n",
       "        vertical-align: middle;\n",
       "    }\n",
       "\n",
       "    .dataframe tbody tr th {\n",
       "        vertical-align: top;\n",
       "    }\n",
       "\n",
       "    .dataframe thead th {\n",
       "        text-align: right;\n",
       "    }\n",
       "</style>\n",
       "<table border=\"1\" class=\"dataframe\">\n",
       "  <thead>\n",
       "    <tr style=\"text-align: right;\">\n",
       "      <th>Crop_Type</th>\n",
       "      <th>0</th>\n",
       "      <th>1</th>\n",
       "    </tr>\n",
       "    <tr>\n",
       "      <th>Soil_Type</th>\n",
       "      <th></th>\n",
       "      <th></th>\n",
       "    </tr>\n",
       "  </thead>\n",
       "  <tbody>\n",
       "    <tr>\n",
       "      <th>0</th>\n",
       "      <td>28699</td>\n",
       "      <td>19425</td>\n",
       "    </tr>\n",
       "    <tr>\n",
       "      <th>1</th>\n",
       "      <td>34890</td>\n",
       "      <td>5844</td>\n",
       "    </tr>\n",
       "  </tbody>\n",
       "</table>\n",
       "</div>"
      ],
      "text/plain": [
       "Crop_Type      0      1\n",
       "Soil_Type              \n",
       "0          28699  19425\n",
       "1          34890   5844"
      ]
     },
     "execution_count": 21,
     "metadata": {},
     "output_type": "execute_result"
    }
   ],
   "source": [
    "cross1 = pd.crosstab(data['Soil_Type'],data['Crop_Type'])\n",
    "cross1"
   ]
  },
  {
   "cell_type": "code",
   "execution_count": 23,
   "id": "ed0a62d6",
   "metadata": {},
   "outputs": [
    {
     "data": {
      "text/html": [
       "<div>\n",
       "<style scoped>\n",
       "    .dataframe tbody tr th:only-of-type {\n",
       "        vertical-align: middle;\n",
       "    }\n",
       "\n",
       "    .dataframe tbody tr th {\n",
       "        vertical-align: top;\n",
       "    }\n",
       "\n",
       "    .dataframe thead th {\n",
       "        text-align: right;\n",
       "    }\n",
       "</style>\n",
       "<table border=\"1\" class=\"dataframe\">\n",
       "  <thead>\n",
       "    <tr style=\"text-align: right;\">\n",
       "      <th>Pesticide_Use_Category</th>\n",
       "      <th>1</th>\n",
       "      <th>2</th>\n",
       "      <th>3</th>\n",
       "    </tr>\n",
       "    <tr>\n",
       "      <th>Soil_Type</th>\n",
       "      <th></th>\n",
       "      <th></th>\n",
       "      <th></th>\n",
       "    </tr>\n",
       "  </thead>\n",
       "  <tbody>\n",
       "    <tr>\n",
       "      <th>0</th>\n",
       "      <td>416</td>\n",
       "      <td>35246</td>\n",
       "      <td>12462</td>\n",
       "    </tr>\n",
       "    <tr>\n",
       "      <th>1</th>\n",
       "      <td>421</td>\n",
       "      <td>28463</td>\n",
       "      <td>11850</td>\n",
       "    </tr>\n",
       "  </tbody>\n",
       "</table>\n",
       "</div>"
      ],
      "text/plain": [
       "Pesticide_Use_Category    1      2      3\n",
       "Soil_Type                                \n",
       "0                       416  35246  12462\n",
       "1                       421  28463  11850"
      ]
     },
     "execution_count": 23,
     "metadata": {},
     "output_type": "execute_result"
    }
   ],
   "source": [
    "cross2 = pd.crosstab(data['Soil_Type'],data['Pesticide_Use_Category'])\n",
    "cross2"
   ]
  },
  {
   "cell_type": "code",
   "execution_count": 24,
   "id": "3b2c1eab",
   "metadata": {},
   "outputs": [
    {
     "data": {
      "text/html": [
       "<div>\n",
       "<style scoped>\n",
       "    .dataframe tbody tr th:only-of-type {\n",
       "        vertical-align: middle;\n",
       "    }\n",
       "\n",
       "    .dataframe tbody tr th {\n",
       "        vertical-align: top;\n",
       "    }\n",
       "\n",
       "    .dataframe thead th {\n",
       "        text-align: right;\n",
       "    }\n",
       "</style>\n",
       "<table border=\"1\" class=\"dataframe\">\n",
       "  <thead>\n",
       "    <tr style=\"text-align: right;\">\n",
       "      <th>Season</th>\n",
       "      <th>1</th>\n",
       "      <th>2</th>\n",
       "      <th>3</th>\n",
       "    </tr>\n",
       "    <tr>\n",
       "      <th>Crop_Damage</th>\n",
       "      <th></th>\n",
       "      <th></th>\n",
       "      <th></th>\n",
       "    </tr>\n",
       "  </thead>\n",
       "  <tbody>\n",
       "    <tr>\n",
       "      <th>0</th>\n",
       "      <td>22493</td>\n",
       "      <td>36881</td>\n",
       "      <td>14864</td>\n",
       "    </tr>\n",
       "    <tr>\n",
       "      <th>1</th>\n",
       "      <td>3748</td>\n",
       "      <td>6115</td>\n",
       "      <td>2444</td>\n",
       "    </tr>\n",
       "    <tr>\n",
       "      <th>2</th>\n",
       "      <td>661</td>\n",
       "      <td>1214</td>\n",
       "      <td>438</td>\n",
       "    </tr>\n",
       "  </tbody>\n",
       "</table>\n",
       "</div>"
      ],
      "text/plain": [
       "Season           1      2      3\n",
       "Crop_Damage                     \n",
       "0            22493  36881  14864\n",
       "1             3748   6115   2444\n",
       "2              661   1214    438"
      ]
     },
     "execution_count": 24,
     "metadata": {},
     "output_type": "execute_result"
    }
   ],
   "source": [
    "pd.crosstab(data['Crop_Damage'],data['Season'])"
   ]
  },
  {
   "cell_type": "code",
   "execution_count": 26,
   "id": "1b1c0c36",
   "metadata": {},
   "outputs": [
    {
     "data": {
      "text/html": [
       "<div>\n",
       "<style scoped>\n",
       "    .dataframe tbody tr th:only-of-type {\n",
       "        vertical-align: middle;\n",
       "    }\n",
       "\n",
       "    .dataframe tbody tr th {\n",
       "        vertical-align: top;\n",
       "    }\n",
       "\n",
       "    .dataframe thead th {\n",
       "        text-align: right;\n",
       "    }\n",
       "</style>\n",
       "<table border=\"1\" class=\"dataframe\">\n",
       "  <thead>\n",
       "    <tr style=\"text-align: right;\">\n",
       "      <th>Crop_Type</th>\n",
       "      <th>0</th>\n",
       "      <th>1</th>\n",
       "    </tr>\n",
       "    <tr>\n",
       "      <th>Crop_Damage</th>\n",
       "      <th></th>\n",
       "      <th></th>\n",
       "    </tr>\n",
       "  </thead>\n",
       "  <tbody>\n",
       "    <tr>\n",
       "      <th>0</th>\n",
       "      <td>52778</td>\n",
       "      <td>21460</td>\n",
       "    </tr>\n",
       "    <tr>\n",
       "      <th>1</th>\n",
       "      <td>9204</td>\n",
       "      <td>3103</td>\n",
       "    </tr>\n",
       "    <tr>\n",
       "      <th>2</th>\n",
       "      <td>1607</td>\n",
       "      <td>706</td>\n",
       "    </tr>\n",
       "  </tbody>\n",
       "</table>\n",
       "</div>"
      ],
      "text/plain": [
       "Crop_Type        0      1\n",
       "Crop_Damage              \n",
       "0            52778  21460\n",
       "1             9204   3103\n",
       "2             1607    706"
      ]
     },
     "execution_count": 26,
     "metadata": {},
     "output_type": "execute_result"
    }
   ],
   "source": [
    "pd.crosstab(data['Crop_Damage'],data['Crop_Type'])"
   ]
  },
  {
   "cell_type": "code",
   "execution_count": 27,
   "id": "4b1f687e",
   "metadata": {},
   "outputs": [
    {
     "data": {
      "text/html": [
       "<div>\n",
       "<style scoped>\n",
       "    .dataframe tbody tr th:only-of-type {\n",
       "        vertical-align: middle;\n",
       "    }\n",
       "\n",
       "    .dataframe tbody tr th {\n",
       "        vertical-align: top;\n",
       "    }\n",
       "\n",
       "    .dataframe thead th {\n",
       "        text-align: right;\n",
       "    }\n",
       "</style>\n",
       "<table border=\"1\" class=\"dataframe\">\n",
       "  <thead>\n",
       "    <tr style=\"text-align: right;\">\n",
       "      <th>Soil_Type</th>\n",
       "      <th>0</th>\n",
       "      <th>1</th>\n",
       "    </tr>\n",
       "    <tr>\n",
       "      <th>Crop_Damage</th>\n",
       "      <th></th>\n",
       "      <th></th>\n",
       "    </tr>\n",
       "  </thead>\n",
       "  <tbody>\n",
       "    <tr>\n",
       "      <th>0</th>\n",
       "      <td>39841</td>\n",
       "      <td>34397</td>\n",
       "    </tr>\n",
       "    <tr>\n",
       "      <th>1</th>\n",
       "      <td>6953</td>\n",
       "      <td>5354</td>\n",
       "    </tr>\n",
       "    <tr>\n",
       "      <th>2</th>\n",
       "      <td>1330</td>\n",
       "      <td>983</td>\n",
       "    </tr>\n",
       "  </tbody>\n",
       "</table>\n",
       "</div>"
      ],
      "text/plain": [
       "Soil_Type        0      1\n",
       "Crop_Damage              \n",
       "0            39841  34397\n",
       "1             6953   5354\n",
       "2             1330    983"
      ]
     },
     "execution_count": 27,
     "metadata": {},
     "output_type": "execute_result"
    }
   ],
   "source": [
    "pd.crosstab(data['Crop_Damage'],data['Soil_Type'])"
   ]
  },
  {
   "cell_type": "code",
   "execution_count": 28,
   "id": "bc7e2b7d",
   "metadata": {},
   "outputs": [
    {
     "data": {
      "text/html": [
       "<div>\n",
       "<style scoped>\n",
       "    .dataframe tbody tr th:only-of-type {\n",
       "        vertical-align: middle;\n",
       "    }\n",
       "\n",
       "    .dataframe tbody tr th {\n",
       "        vertical-align: top;\n",
       "    }\n",
       "\n",
       "    .dataframe thead th {\n",
       "        text-align: right;\n",
       "    }\n",
       "</style>\n",
       "<table border=\"1\" class=\"dataframe\">\n",
       "  <thead>\n",
       "    <tr style=\"text-align: right;\">\n",
       "      <th>Pesticide_Use_Category</th>\n",
       "      <th>1</th>\n",
       "      <th>2</th>\n",
       "      <th>3</th>\n",
       "    </tr>\n",
       "    <tr>\n",
       "      <th>Crop_Damage</th>\n",
       "      <th></th>\n",
       "      <th></th>\n",
       "      <th></th>\n",
       "    </tr>\n",
       "  </thead>\n",
       "  <tbody>\n",
       "    <tr>\n",
       "      <th>0</th>\n",
       "      <td>118</td>\n",
       "      <td>56958</td>\n",
       "      <td>17162</td>\n",
       "    </tr>\n",
       "    <tr>\n",
       "      <th>1</th>\n",
       "      <td>554</td>\n",
       "      <td>6072</td>\n",
       "      <td>5681</td>\n",
       "    </tr>\n",
       "    <tr>\n",
       "      <th>2</th>\n",
       "      <td>165</td>\n",
       "      <td>679</td>\n",
       "      <td>1469</td>\n",
       "    </tr>\n",
       "  </tbody>\n",
       "</table>\n",
       "</div>"
      ],
      "text/plain": [
       "Pesticide_Use_Category    1      2      3\n",
       "Crop_Damage                              \n",
       "0                       118  56958  17162\n",
       "1                       554   6072   5681\n",
       "2                       165    679   1469"
      ]
     },
     "execution_count": 28,
     "metadata": {},
     "output_type": "execute_result"
    }
   ],
   "source": [
    "pd.crosstab(data['Crop_Damage'],data['Pesticide_Use_Category'])"
   ]
  },
  {
   "cell_type": "code",
   "execution_count": 37,
   "id": "b83275ce",
   "metadata": {},
   "outputs": [
    {
     "data": {
      "text/html": [
       "<div>\n",
       "<style scoped>\n",
       "    .dataframe tbody tr th:only-of-type {\n",
       "        vertical-align: middle;\n",
       "    }\n",
       "\n",
       "    .dataframe tbody tr th {\n",
       "        vertical-align: top;\n",
       "    }\n",
       "\n",
       "    .dataframe thead th {\n",
       "        text-align: right;\n",
       "    }\n",
       "</style>\n",
       "<table border=\"1\" class=\"dataframe\">\n",
       "  <thead>\n",
       "    <tr style=\"text-align: right;\">\n",
       "      <th></th>\n",
       "      <th>ID</th>\n",
       "      <th>Estimated_Insects_Count</th>\n",
       "      <th>Soil_Type</th>\n",
       "      <th>Pesticide_Use_Category</th>\n",
       "      <th>Number_Doses_Week</th>\n",
       "      <th>Number_Weeks_Used</th>\n",
       "      <th>Number_Weeks_Quit</th>\n",
       "      <th>Season</th>\n",
       "      <th>Crop_Damage</th>\n",
       "    </tr>\n",
       "    <tr>\n",
       "      <th>Crop_Type</th>\n",
       "      <th></th>\n",
       "      <th></th>\n",
       "      <th></th>\n",
       "      <th></th>\n",
       "      <th></th>\n",
       "      <th></th>\n",
       "      <th></th>\n",
       "      <th></th>\n",
       "      <th></th>\n",
       "    </tr>\n",
       "  </thead>\n",
       "  <tbody>\n",
       "    <tr>\n",
       "      <th>0</th>\n",
       "      <td>63589</td>\n",
       "      <td>63589</td>\n",
       "      <td>63589</td>\n",
       "      <td>63589</td>\n",
       "      <td>63589</td>\n",
       "      <td>63589</td>\n",
       "      <td>63589</td>\n",
       "      <td>63589</td>\n",
       "      <td>63589</td>\n",
       "    </tr>\n",
       "    <tr>\n",
       "      <th>1</th>\n",
       "      <td>25269</td>\n",
       "      <td>25269</td>\n",
       "      <td>25269</td>\n",
       "      <td>25269</td>\n",
       "      <td>25269</td>\n",
       "      <td>25269</td>\n",
       "      <td>25269</td>\n",
       "      <td>25269</td>\n",
       "      <td>25269</td>\n",
       "    </tr>\n",
       "  </tbody>\n",
       "</table>\n",
       "</div>"
      ],
      "text/plain": [
       "              ID  Estimated_Insects_Count  Soil_Type  Pesticide_Use_Category  \\\n",
       "Crop_Type                                                                      \n",
       "0          63589                    63589      63589                   63589   \n",
       "1          25269                    25269      25269                   25269   \n",
       "\n",
       "           Number_Doses_Week  Number_Weeks_Used  Number_Weeks_Quit  Season  \\\n",
       "Crop_Type                                                                    \n",
       "0                      63589              63589              63589   63589   \n",
       "1                      25269              25269              25269   25269   \n",
       "\n",
       "           Crop_Damage  \n",
       "Crop_Type               \n",
       "0                63589  \n",
       "1                25269  "
      ]
     },
     "execution_count": 37,
     "metadata": {},
     "output_type": "execute_result"
    }
   ],
   "source": [
    "data.groupby(['Crop_Type']).count()"
   ]
  },
  {
   "cell_type": "markdown",
   "id": "8800ecb9",
   "metadata": {},
   "source": [
    "#### SUMMARY\n",
    "\n",
    "Crop damage 0 = healthy crop, crop_type 0 is the most resilient crop type to other factors , season_2 is the most favourable season, soil_type 0 is the most favourable soil\n",
    "\n",
    "crop damage 1 = damage caused my pesticide, crop type 0 experienced more damage from pesticide as it is more on the dataset\n",
    "\n",
    "crop damage 2 = caused by other factors"
   ]
  },
  {
   "cell_type": "markdown",
   "id": "70463a13",
   "metadata": {},
   "source": [
    "## GRAPHICAL ANALYSIS"
   ]
  },
  {
   "cell_type": "markdown",
   "id": "b398042f",
   "metadata": {},
   "source": [
    "### Univariate analysis"
   ]
  },
  {
   "cell_type": "code",
   "execution_count": 38,
   "id": "add1f961",
   "metadata": {},
   "outputs": [
    {
     "data": {
      "text/plain": [
       "Text(0.5, 1.0, 'Seasons')"
      ]
     },
     "execution_count": 38,
     "metadata": {},
     "output_type": "execute_result"
    },
    {
     "data": {
      "image/png": "[encoded data removed]",
      "text/plain": [
       "<Figure size 1440x360 with 3 Axes>"
      ]
     },
     "metadata": {
      "needs_background": "light"
     },
     "output_type": "display_data"
    }
   ],
   "source": [
    "f,ax=plt.subplots(1,3,figsize=(20,5))\n",
    "data['Crop_Type'].value_counts().plot.bar(ax=ax[0],edgecolor='black',color='red')\n",
    "ax[0].set_title('Crop type')\n",
    "\n",
    "data['Soil_Type'].value_counts().plot.bar(ax=ax[1],color='green',edgecolor='white')\n",
    "ax[1].set_title('Soil type')\n",
    "\n",
    "data['Season'].value_counts().plot.bar(ax=ax[2],color='blue',edgecolor='black')\n",
    "ax[2].set_title('Seasons')"
   ]
  },
  {
   "cell_type": "code",
   "execution_count": 39,
   "id": "7d859188",
   "metadata": {},
   "outputs": [
    {
     "data": {
      "text/plain": [
       "Text(0.5, 1.0, 'Weeks quit')"
      ]
     },
     "execution_count": 39,
     "metadata": {},
     "output_type": "execute_result"
    },
    {
     "data": {
      "image/png": "[encoded data removed]",
      "text/plain": [
       "<Figure size 1440x360 with 4 Axes>"
      ]
     },
     "metadata": {
      "needs_background": "light"
     },
     "output_type": "display_data"
    }
   ],
   "source": [
    "f,ax=plt.subplots(1,4,figsize=(20,5))\n",
    "data['Estimated_Insects_Count'].plot.box(ax=ax[0])\n",
    "ax[0].set_title('Insects Count')\n",
    "\n",
    "data['Number_Doses_Week'].plot.box(ax=ax[1])\n",
    "ax[1].set_title('Doses per Week')\n",
    "\n",
    "data['Number_Weeks_Used'].plot.box(ax=ax[2])\n",
    "ax[2].set_title('Weeks Used')\n",
    "\n",
    "data['Number_Weeks_Quit'].plot.box(ax=ax[3])\n",
    "ax[3].set_title('Weeks quit')"
   ]
  },
  {
   "cell_type": "markdown",
   "id": "adb5bf6a",
   "metadata": {},
   "source": [
    "we have some outliers , which we will need to remove\n",
    "\n",
    "Presence of outliers above 70 in Number_Doses_Week\n",
    "\n",
    "Presence of outliers above 3500 in Estimated_Insects_Count\n",
    "\n",
    "Presence of outliers above 60 in Number_Weeks_Used\n",
    "\n",
    "Presence of outliers above 40 in Number_Weeks_Quit"
   ]
  },
  {
   "cell_type": "code",
   "execution_count": 43,
   "id": "4b3d9e0e",
   "metadata": {},
   "outputs": [],
   "source": [
    "data.loc[data['Estimated_Insects_Count']>3500,'Estimated_Insects_Count']=np.mean(data['Estimated_Insects_Count'])\n",
    "data.loc[data['Number_Doses_Week']>69,'Number_Doses_Week']=np.mean(data['Number_Doses_Week'])\n",
    "data.loc[data['Number_Weeks_Used']>60,'Number_Weeks_Used']=np.mean(data['Number_Weeks_Used'])\n",
    "data.loc[data['Number_Weeks_Quit']>40,'Number_Weeks_Quit']=np.mean(data['Number_Weeks_Quit'])"
   ]
  },
  {
   "cell_type": "code",
   "execution_count": 44,
   "id": "acd50c04",
   "metadata": {},
   "outputs": [
    {
     "name": "stdout",
     "output_type": "stream",
     "text": [
      "<class 'pandas.core.frame.DataFrame'>\n",
      "RangeIndex: 88858 entries, 0 to 88857\n",
      "Data columns (total 10 columns):\n",
      " #   Column                   Non-Null Count  Dtype  \n",
      "---  ------                   --------------  -----  \n",
      " 0   ID                       88858 non-null  object \n",
      " 1   Estimated_Insects_Count  88858 non-null  float64\n",
      " 2   Crop_Type                88858 non-null  int64  \n",
      " 3   Soil_Type                88858 non-null  int64  \n",
      " 4   Pesticide_Use_Category   88858 non-null  int64  \n",
      " 5   Number_Doses_Week        88858 non-null  float64\n",
      " 6   Number_Weeks_Used        88858 non-null  float64\n",
      " 7   Number_Weeks_Quit        88858 non-null  float64\n",
      " 8   Season                   88858 non-null  int64  \n",
      " 9   Crop_Damage              88858 non-null  int64  \n",
      "dtypes: float64(4), int64(5), object(1)\n",
      "memory usage: 6.8+ MB\n"
     ]
    }
   ],
   "source": [
    "# experience change in data types after removing outliers\n",
    "data.info()"
   ]
  },
  {
   "cell_type": "code",
   "execution_count": 45,
   "id": "ea9f44ca",
   "metadata": {},
   "outputs": [],
   "source": [
    "data=data.astype({'Estimated_Insects_Count':'int64','Number_Doses_Week':'int64','Number_Weeks_Used':'int64','Number_Weeks_Quit':'int64'})"
   ]
  },
  {
   "cell_type": "markdown",
   "id": "ca98fd84",
   "metadata": {},
   "source": [
    "### Bivariate analysis"
   ]
  },
  {
   "cell_type": "code",
   "execution_count": 47,
   "id": "81ac0dd8",
   "metadata": {},
   "outputs": [
    {
     "data": {
      "text/plain": [
       "Text(0.5, 1.0, 'Plot of crop damage Vs Crop type')"
      ]
     },
     "execution_count": 47,
     "metadata": {},
     "output_type": "execute_result"
    },
    {
     "data": {
      "image/png": "[encoded data removed]",
      "text/plain": [
       "<Figure size 720x432 with 2 Axes>"
      ]
     },
     "metadata": {
      "needs_background": "light"
     },
     "output_type": "display_data"
    }
   ],
   "source": [
    "plt.figure(figsize = (10,6))\n",
    "plt.subplot(1,2,1)\n",
    "sns.countplot(x = 'Crop_Type' , palette= 'cool', data= data) \n",
    "plt.title(\"Count plot of Crop_Type\")\n",
    "\n",
    "plt.subplot(1,2,2)\n",
    "sns.countplot(data['Crop_Type'], hue = data['Crop_Damage'],palette=\"rocket_r\")\n",
    "plt.title(\"Plot of crop damage Vs Crop type\")"
   ]
  },
  {
   "cell_type": "code",
   "execution_count": 49,
   "id": "2193526b",
   "metadata": {},
   "outputs": [
    {
     "data": {
      "image/png": "[encoded data removed]",
      "text/plain": [
       "<Figure size 720x360 with 2 Axes>"
      ]
     },
     "metadata": {
      "needs_background": "light"
     },
     "output_type": "display_data"
    }
   ],
   "source": [
    "plt.figure(figsize = (10,5))\n",
    "plt.subplot(1,2,1)\n",
    "sns.countplot(data['Season'], palette = 'hsv')\n",
    "plt.title('Count plot of Season')\n",
    "plt.subplot(1,2,2)\n",
    "sns.countplot(data['Season'], hue = data['Crop_Damage'], palette = 'hsv')\n",
    "plt.title('Count plot of Crop_Damage in Seasons')\n",
    "plt.show()"
   ]
  },
  {
   "cell_type": "code",
   "execution_count": 50,
   "id": "10e5de40",
   "metadata": {},
   "outputs": [
    {
     "data": {
      "text/plain": [
       "<AxesSubplot:xlabel='Number_Weeks_Used', ylabel='Number_Doses_Week'>"
      ]
     },
     "execution_count": 50,
     "metadata": {},
     "output_type": "execute_result"
    },
    {
     "data": {
      "image/png": "[encoded data removed]",
      "text/plain": [
       "<Figure size 432x288 with 1 Axes>"
      ]
     },
     "metadata": {
      "needs_background": "light"
     },
     "output_type": "display_data"
    }
   ],
   "source": [
    "data.plot.scatter('Number_Weeks_Used','Number_Doses_Week')"
   ]
  },
  {
   "cell_type": "markdown",
   "id": "a06db9ee",
   "metadata": {},
   "source": [
    "The above scatter plot shows a linear relation between them. Correlation will tend to zero in this case"
   ]
  },
  {
   "cell_type": "code",
   "execution_count": 52,
   "id": "57aaf5a9",
   "metadata": {},
   "outputs": [
    {
     "data": {
      "text/plain": [
       "[0.12649226871774746]"
      ]
     },
     "execution_count": 52,
     "metadata": {},
     "output_type": "execute_result"
    }
   ],
   "source": [
    "corr=[data['Number_Weeks_Used'].corr(data['Number_Doses_Week'])]\n",
    "corr"
   ]
  },
  {
   "cell_type": "code",
   "execution_count": 54,
   "id": "4c909c60",
   "metadata": {},
   "outputs": [
    {
     "data": {
      "image/png": "[encoded data removed]",
      "text/plain": [
       "<Figure size 432x288 with 1 Axes>"
      ]
     },
     "metadata": {
      "needs_background": "light"
     },
     "output_type": "display_data"
    }
   ],
   "source": [
    "grp=data.groupby('Pesticide_Use_Category')['Estimated_Insects_Count'].mean().plot.bar()"
   ]
  },
  {
   "cell_type": "markdown",
   "id": "d7207ea5",
   "metadata": {},
   "source": [
    "The above is the bar graph between Pesticide_Use_Category and Estimated_Insects_Count.\n",
    "\n",
    "As expected The crops where pesticides are not used have higher count of insects"
   ]
  },
  {
   "cell_type": "code",
   "execution_count": 55,
   "id": "f6e4e548",
   "metadata": {},
   "outputs": [
    {
     "data": {
      "text/plain": [
       "Text(0.5, 1.0, 'Crop Damage per pesticide quit')"
      ]
     },
     "execution_count": 55,
     "metadata": {},
     "output_type": "execute_result"
    },
    {
     "data": {
      "image/png": "[encoded data removed]",
      "text/plain": [
       "<Figure size 1440x360 with 4 Axes>"
      ]
     },
     "metadata": {
      "needs_background": "light"
     },
     "output_type": "display_data"
    }
   ],
   "source": [
    "f,ax=plt.subplots(1,4,figsize=(20,5))\n",
    "data.groupby('Crop_Damage')['Estimated_Insects_Count'].mean().plot.bar(ax=ax[0],edgecolor='black',color='red')\n",
    "ax[0].set_title('Crop Damage per insect count')\n",
    "\n",
    "data.groupby('Crop_Damage')['Number_Doses_Week'].mean().plot.bar(ax=ax[1],color='green',edgecolor='white')\n",
    "ax[1].set_title('Crop Damage per pesticide dose')\n",
    "\n",
    "data.groupby('Crop_Damage')['Number_Weeks_Used'].mean().plot.bar(ax=ax[2],color='blue',edgecolor='black')\n",
    "ax[2].set_title('Crop Damage per pesticide use')\n",
    "\n",
    "data.groupby('Crop_Damage')['Number_Weeks_Quit'].mean().plot.bar(ax=ax[3],color='brown',edgecolor='brown')\n",
    "ax[3].set_title('Crop Damage per pesticide quit')"
   ]
  },
  {
   "cell_type": "markdown",
   "id": "d7c6f7d7",
   "metadata": {},
   "source": [
    "the more the insect count the more the damage to the crop \n",
    "\n",
    "the damage caused by pesticide is not by the dose but in the frequency of the usage "
   ]
  },
  {
   "cell_type": "code",
   "execution_count": 87,
   "id": "2f745d38",
   "metadata": {},
   "outputs": [
    {
     "data": {
      "text/plain": [
       "Text(0, 0.5, 'Number_weeks_quit')"
      ]
     },
     "execution_count": 87,
     "metadata": {},
     "output_type": "execute_result"
    },
    {
     "data": {
      "image/png": "[encoded data removed]",
      "text/plain": [
       "<Figure size 432x288 with 1 Axes>"
      ]
     },
     "metadata": {
      "needs_background": "light"
     },
     "output_type": "display_data"
    }
   ],
   "source": [
    "ax=sns.scatterplot(x=data['Estimated_Insects_Count'].values,y=data['Number_Weeks_Quit'].values,hue=data['Crop_Damage'].values,palette='viridis_r')\n",
    "ax.set_xlabel('Insects_count')\n",
    "ax.set_ylabel('Number_weeks_quit')"
   ]
  },
  {
   "cell_type": "code",
   "execution_count": 56,
   "id": "329c933b",
   "metadata": {},
   "outputs": [
    {
     "data": {
      "text/plain": [
       "<AxesSubplot:>"
      ]
     },
     "execution_count": 56,
     "metadata": {},
     "output_type": "execute_result"
    },
    {
     "data": {
      "image/png": "[encoded data removed]",
      "text/plain": [
       "<Figure size 432x288 with 2 Axes>"
      ]
     },
     "metadata": {
      "needs_background": "light"
     },
     "output_type": "display_data"
    }
   ],
   "source": [
    "sns.heatmap(data.corr(),annot=True)"
   ]
  },
  {
   "cell_type": "markdown",
   "id": "1da0aebc",
   "metadata": {},
   "source": [
    "### Summary\n",
    "\n",
    "Feature Estimated_Insects_Count has good correlation with Number_Weeks_Used\n",
    "\n",
    "Seasons dont have much effect in survival percentage rate\n",
    "\n",
    "Among pesticide categories, category 2(previously used) has highest Survival rate\n",
    "\n",
    "Soil_Type1 has slightly higher survival rate than Type0\n",
    "\n",
    "Crop_Type1 has slightly more survival percentage rate than Type0"
   ]
  },
  {
   "cell_type": "markdown",
   "id": "91f957d9",
   "metadata": {},
   "source": [
    "### FEATURE ENGINEERING"
   ]
  },
  {
   "cell_type": "markdown",
   "id": "66040523",
   "metadata": {},
   "source": [
    "Create a column total doses column which is the use of pesticides doses per week and number of weeks of its use. As well as anpther for Total days"
   ]
  },
  {
   "cell_type": "code",
   "execution_count": 57,
   "id": "b1db144b",
   "metadata": {},
   "outputs": [
    {
     "data": {
      "text/html": [
       "<div>\n",
       "<style scoped>\n",
       "    .dataframe tbody tr th:only-of-type {\n",
       "        vertical-align: middle;\n",
       "    }\n",
       "\n",
       "    .dataframe tbody tr th {\n",
       "        vertical-align: top;\n",
       "    }\n",
       "\n",
       "    .dataframe thead th {\n",
       "        text-align: right;\n",
       "    }\n",
       "</style>\n",
       "<table border=\"1\" class=\"dataframe\">\n",
       "  <thead>\n",
       "    <tr style=\"text-align: right;\">\n",
       "      <th></th>\n",
       "      <th>Total_Doses</th>\n",
       "      <th>Number_Weeks_Used</th>\n",
       "      <th>Number_Doses_Week</th>\n",
       "    </tr>\n",
       "  </thead>\n",
       "  <tbody>\n",
       "    <tr>\n",
       "      <th>88853</th>\n",
       "      <td>120</td>\n",
       "      <td>12</td>\n",
       "      <td>10</td>\n",
       "    </tr>\n",
       "    <tr>\n",
       "      <th>88854</th>\n",
       "      <td>200</td>\n",
       "      <td>20</td>\n",
       "      <td>10</td>\n",
       "    </tr>\n",
       "    <tr>\n",
       "      <th>88855</th>\n",
       "      <td>600</td>\n",
       "      <td>40</td>\n",
       "      <td>15</td>\n",
       "    </tr>\n",
       "    <tr>\n",
       "      <th>88856</th>\n",
       "      <td>250</td>\n",
       "      <td>25</td>\n",
       "      <td>10</td>\n",
       "    </tr>\n",
       "    <tr>\n",
       "      <th>88857</th>\n",
       "      <td>740</td>\n",
       "      <td>37</td>\n",
       "      <td>20</td>\n",
       "    </tr>\n",
       "  </tbody>\n",
       "</table>\n",
       "</div>"
      ],
      "text/plain": [
       "       Total_Doses  Number_Weeks_Used  Number_Doses_Week\n",
       "88853          120                 12                 10\n",
       "88854          200                 20                 10\n",
       "88855          600                 40                 15\n",
       "88856          250                 25                 10\n",
       "88857          740                 37                 20"
      ]
     },
     "execution_count": 57,
     "metadata": {},
     "output_type": "execute_result"
    }
   ],
   "source": [
    "data['Total_Doses']=data['Number_Doses_Week']*data['Number_Weeks_Used']\n",
    "data[['Total_Doses','Number_Weeks_Used','Number_Doses_Week']].tail()"
   ]
  },
  {
   "cell_type": "code",
   "execution_count": 58,
   "id": "1dccdab8",
   "metadata": {},
   "outputs": [
    {
     "data": {
      "text/html": [
       "<div>\n",
       "<style scoped>\n",
       "    .dataframe tbody tr th:only-of-type {\n",
       "        vertical-align: middle;\n",
       "    }\n",
       "\n",
       "    .dataframe tbody tr th {\n",
       "        vertical-align: top;\n",
       "    }\n",
       "\n",
       "    .dataframe thead th {\n",
       "        text-align: right;\n",
       "    }\n",
       "</style>\n",
       "<table border=\"1\" class=\"dataframe\">\n",
       "  <thead>\n",
       "    <tr style=\"text-align: right;\">\n",
       "      <th></th>\n",
       "      <th>Total_Days</th>\n",
       "      <th>Number_Weeks_Used</th>\n",
       "      <th>Number_Weeks_Quit</th>\n",
       "    </tr>\n",
       "  </thead>\n",
       "  <tbody>\n",
       "    <tr>\n",
       "      <th>88853</th>\n",
       "      <td>21</td>\n",
       "      <td>12</td>\n",
       "      <td>9</td>\n",
       "    </tr>\n",
       "    <tr>\n",
       "      <th>88854</th>\n",
       "      <td>58</td>\n",
       "      <td>20</td>\n",
       "      <td>38</td>\n",
       "    </tr>\n",
       "    <tr>\n",
       "      <th>88855</th>\n",
       "      <td>48</td>\n",
       "      <td>40</td>\n",
       "      <td>8</td>\n",
       "    </tr>\n",
       "    <tr>\n",
       "      <th>88856</th>\n",
       "      <td>43</td>\n",
       "      <td>25</td>\n",
       "      <td>18</td>\n",
       "    </tr>\n",
       "    <tr>\n",
       "      <th>88857</th>\n",
       "      <td>44</td>\n",
       "      <td>37</td>\n",
       "      <td>7</td>\n",
       "    </tr>\n",
       "  </tbody>\n",
       "</table>\n",
       "</div>"
      ],
      "text/plain": [
       "       Total_Days  Number_Weeks_Used  Number_Weeks_Quit\n",
       "88853          21                 12                  9\n",
       "88854          58                 20                 38\n",
       "88855          48                 40                  8\n",
       "88856          43                 25                 18\n",
       "88857          44                 37                  7"
      ]
     },
     "execution_count": 58,
     "metadata": {},
     "output_type": "execute_result"
    }
   ],
   "source": [
    "data['Total_Days']=data['Number_Weeks_Quit']+data['Number_Weeks_Used']\n",
    "data[['Total_Days','Number_Weeks_Used','Number_Weeks_Quit']].tail()"
   ]
  },
  {
   "cell_type": "markdown",
   "id": "4f45242a",
   "metadata": {},
   "source": [
    "lets do further analysis with the new column"
   ]
  },
  {
   "cell_type": "code",
   "execution_count": 59,
   "id": "e4fc5c06",
   "metadata": {},
   "outputs": [
    {
     "data": {
      "text/plain": [
       "Crop_Damage\n",
       "0    691.872087\n",
       "1    815.561469\n",
       "2    966.491569\n",
       "Name: Total_Doses, dtype: float64"
      ]
     },
     "execution_count": 59,
     "metadata": {},
     "output_type": "execute_result"
    }
   ],
   "source": [
    "data.groupby('Crop_Damage')['Total_Doses'].mean()"
   ]
  },
  {
   "cell_type": "markdown",
   "id": "c5a65f80",
   "metadata": {},
   "source": [
    "crops are mostly damaged due to over dose of pesticides and even due to some other reasons."
   ]
  },
  {
   "cell_type": "code",
   "execution_count": 60,
   "id": "bd4b5c66",
   "metadata": {},
   "outputs": [
    {
     "data": {
      "text/plain": [
       "Crop_Damage\n",
       "0    36.518185\n",
       "1    40.117819\n",
       "2    38.594898\n",
       "Name: Total_Days, dtype: float64"
      ]
     },
     "execution_count": 60,
     "metadata": {},
     "output_type": "execute_result"
    }
   ],
   "source": [
    "data.groupby('Crop_Damage')['Total_Days'].mean()"
   ]
  },
  {
   "cell_type": "markdown",
   "id": "ab53da56",
   "metadata": {},
   "source": [
    "lets see the relationship between soil,crop,season together and number of weeks pesticide used.\n",
    "\n",
    "Adding another column with value 1 everywhere for a required table below."
   ]
  },
  {
   "cell_type": "code",
   "execution_count": 62,
   "id": "6dd7545a",
   "metadata": {},
   "outputs": [
    {
     "data": {
      "text/html": [
       "<div>\n",
       "<style scoped>\n",
       "    .dataframe tbody tr th:only-of-type {\n",
       "        vertical-align: middle;\n",
       "    }\n",
       "\n",
       "    .dataframe tbody tr th {\n",
       "        vertical-align: top;\n",
       "    }\n",
       "\n",
       "    .dataframe thead th {\n",
       "        text-align: right;\n",
       "    }\n",
       "</style>\n",
       "<table border=\"1\" class=\"dataframe\">\n",
       "  <thead>\n",
       "    <tr style=\"text-align: right;\">\n",
       "      <th></th>\n",
       "      <th></th>\n",
       "      <th>Pesticide_Use_Category</th>\n",
       "      <th>1</th>\n",
       "      <th>2</th>\n",
       "      <th>3</th>\n",
       "    </tr>\n",
       "    <tr>\n",
       "      <th>Season</th>\n",
       "      <th>Soil_Type</th>\n",
       "      <th>Crop_Type</th>\n",
       "      <th></th>\n",
       "      <th></th>\n",
       "      <th></th>\n",
       "    </tr>\n",
       "  </thead>\n",
       "  <tbody>\n",
       "    <tr>\n",
       "      <th rowspan=\"4\" valign=\"top\">1</th>\n",
       "      <th rowspan=\"2\" valign=\"top\">0</th>\n",
       "      <th>0</th>\n",
       "      <td>53.0</td>\n",
       "      <td>6659.0</td>\n",
       "      <td>2014.0</td>\n",
       "    </tr>\n",
       "    <tr>\n",
       "      <th>1</th>\n",
       "      <td>74.0</td>\n",
       "      <td>4064.0</td>\n",
       "      <td>1726.0</td>\n",
       "    </tr>\n",
       "    <tr>\n",
       "      <th rowspan=\"2\" valign=\"top\">1</th>\n",
       "      <th>0</th>\n",
       "      <td>63.0</td>\n",
       "      <td>8587.0</td>\n",
       "      <td>1893.0</td>\n",
       "    </tr>\n",
       "    <tr>\n",
       "      <th>1</th>\n",
       "      <td>67.0</td>\n",
       "      <td>NaN</td>\n",
       "      <td>1702.0</td>\n",
       "    </tr>\n",
       "    <tr>\n",
       "      <th rowspan=\"4\" valign=\"top\">2</th>\n",
       "      <th rowspan=\"2\" valign=\"top\">0</th>\n",
       "      <th>0</th>\n",
       "      <td>99.0</td>\n",
       "      <td>10928.0</td>\n",
       "      <td>3296.0</td>\n",
       "    </tr>\n",
       "    <tr>\n",
       "      <th>1</th>\n",
       "      <td>125.0</td>\n",
       "      <td>6573.0</td>\n",
       "      <td>2954.0</td>\n",
       "    </tr>\n",
       "    <tr>\n",
       "      <th rowspan=\"2\" valign=\"top\">1</th>\n",
       "      <th>0</th>\n",
       "      <td>97.0</td>\n",
       "      <td>14154.0</td>\n",
       "      <td>3090.0</td>\n",
       "    </tr>\n",
       "    <tr>\n",
       "      <th>1</th>\n",
       "      <td>128.0</td>\n",
       "      <td>NaN</td>\n",
       "      <td>2766.0</td>\n",
       "    </tr>\n",
       "    <tr>\n",
       "      <th rowspan=\"4\" valign=\"top\">3</th>\n",
       "      <th rowspan=\"2\" valign=\"top\">0</th>\n",
       "      <th>0</th>\n",
       "      <td>31.0</td>\n",
       "      <td>4360.0</td>\n",
       "      <td>1259.0</td>\n",
       "    </tr>\n",
       "    <tr>\n",
       "      <th>1</th>\n",
       "      <td>34.0</td>\n",
       "      <td>2662.0</td>\n",
       "      <td>1213.0</td>\n",
       "    </tr>\n",
       "    <tr>\n",
       "      <th rowspan=\"2\" valign=\"top\">1</th>\n",
       "      <th>0</th>\n",
       "      <td>29.0</td>\n",
       "      <td>5722.0</td>\n",
       "      <td>1255.0</td>\n",
       "    </tr>\n",
       "    <tr>\n",
       "      <th>1</th>\n",
       "      <td>37.0</td>\n",
       "      <td>NaN</td>\n",
       "      <td>1144.0</td>\n",
       "    </tr>\n",
       "  </tbody>\n",
       "</table>\n",
       "</div>"
      ],
      "text/plain": [
       "Pesticide_Use_Category          1        2       3\n",
       "Season Soil_Type Crop_Type                        \n",
       "1      0         0           53.0   6659.0  2014.0\n",
       "                 1           74.0   4064.0  1726.0\n",
       "       1         0           63.0   8587.0  1893.0\n",
       "                 1           67.0      NaN  1702.0\n",
       "2      0         0           99.0  10928.0  3296.0\n",
       "                 1          125.0   6573.0  2954.0\n",
       "       1         0           97.0  14154.0  3090.0\n",
       "                 1          128.0      NaN  2766.0\n",
       "3      0         0           31.0   4360.0  1259.0\n",
       "                 1           34.0   2662.0  1213.0\n",
       "       1         0           29.0   5722.0  1255.0\n",
       "                 1           37.0      NaN  1144.0"
      ]
     },
     "execution_count": 62,
     "metadata": {},
     "output_type": "execute_result"
    }
   ],
   "source": [
    "data['count']=1\n",
    "data.pivot_table('count', ['Season','Soil_Type','Crop_Type'], ['Pesticide_Use_Category'],aggfunc='sum')"
   ]
  },
  {
   "cell_type": "code",
   "execution_count": 63,
   "id": "e1581c71",
   "metadata": {},
   "outputs": [
    {
     "data": {
      "text/html": [
       "<div>\n",
       "<style scoped>\n",
       "    .dataframe tbody tr th:only-of-type {\n",
       "        vertical-align: middle;\n",
       "    }\n",
       "\n",
       "    .dataframe tbody tr th {\n",
       "        vertical-align: top;\n",
       "    }\n",
       "\n",
       "    .dataframe thead tr th {\n",
       "        text-align: left;\n",
       "    }\n",
       "\n",
       "    .dataframe thead tr:last-of-type th {\n",
       "        text-align: right;\n",
       "    }\n",
       "</style>\n",
       "<table border=\"1\" class=\"dataframe\">\n",
       "  <thead>\n",
       "    <tr>\n",
       "      <th></th>\n",
       "      <th></th>\n",
       "      <th>Pesticide_Use_Category</th>\n",
       "      <th colspan=\"3\" halign=\"left\">1</th>\n",
       "      <th colspan=\"3\" halign=\"left\">2</th>\n",
       "      <th colspan=\"3\" halign=\"left\">3</th>\n",
       "    </tr>\n",
       "    <tr>\n",
       "      <th></th>\n",
       "      <th></th>\n",
       "      <th>Crop_Damage</th>\n",
       "      <th>0</th>\n",
       "      <th>1</th>\n",
       "      <th>2</th>\n",
       "      <th>0</th>\n",
       "      <th>1</th>\n",
       "      <th>2</th>\n",
       "      <th>0</th>\n",
       "      <th>1</th>\n",
       "      <th>2</th>\n",
       "    </tr>\n",
       "    <tr>\n",
       "      <th>Season</th>\n",
       "      <th>Soil_Type</th>\n",
       "      <th>Crop_Type</th>\n",
       "      <th></th>\n",
       "      <th></th>\n",
       "      <th></th>\n",
       "      <th></th>\n",
       "      <th></th>\n",
       "      <th></th>\n",
       "      <th></th>\n",
       "      <th></th>\n",
       "      <th></th>\n",
       "    </tr>\n",
       "  </thead>\n",
       "  <tbody>\n",
       "    <tr>\n",
       "      <th rowspan=\"4\" valign=\"top\">1</th>\n",
       "      <th rowspan=\"2\" valign=\"top\">0</th>\n",
       "      <th>0</th>\n",
       "      <td>7.0</td>\n",
       "      <td>39.0</td>\n",
       "      <td>7.0</td>\n",
       "      <td>5720.0</td>\n",
       "      <td>853.0</td>\n",
       "      <td>86.0</td>\n",
       "      <td>1218.0</td>\n",
       "      <td>626.0</td>\n",
       "      <td>170.0</td>\n",
       "    </tr>\n",
       "    <tr>\n",
       "      <th>1</th>\n",
       "      <td>11.0</td>\n",
       "      <td>45.0</td>\n",
       "      <td>18.0</td>\n",
       "      <td>3832.0</td>\n",
       "      <td>210.0</td>\n",
       "      <td>22.0</td>\n",
       "      <td>1300.0</td>\n",
       "      <td>351.0</td>\n",
       "      <td>75.0</td>\n",
       "    </tr>\n",
       "    <tr>\n",
       "      <th rowspan=\"2\" valign=\"top\">1</th>\n",
       "      <th>0</th>\n",
       "      <td>5.0</td>\n",
       "      <td>50.0</td>\n",
       "      <td>8.0</td>\n",
       "      <td>7706.0</td>\n",
       "      <td>789.0</td>\n",
       "      <td>92.0</td>\n",
       "      <td>1340.0</td>\n",
       "      <td>444.0</td>\n",
       "      <td>109.0</td>\n",
       "    </tr>\n",
       "    <tr>\n",
       "      <th>1</th>\n",
       "      <td>8.0</td>\n",
       "      <td>46.0</td>\n",
       "      <td>13.0</td>\n",
       "      <td>NaN</td>\n",
       "      <td>NaN</td>\n",
       "      <td>NaN</td>\n",
       "      <td>1346.0</td>\n",
       "      <td>295.0</td>\n",
       "      <td>61.0</td>\n",
       "    </tr>\n",
       "    <tr>\n",
       "      <th rowspan=\"4\" valign=\"top\">2</th>\n",
       "      <th rowspan=\"2\" valign=\"top\">0</th>\n",
       "      <th>0</th>\n",
       "      <td>18.0</td>\n",
       "      <td>68.0</td>\n",
       "      <td>13.0</td>\n",
       "      <td>9345.0</td>\n",
       "      <td>1414.0</td>\n",
       "      <td>169.0</td>\n",
       "      <td>2027.0</td>\n",
       "      <td>965.0</td>\n",
       "      <td>304.0</td>\n",
       "    </tr>\n",
       "    <tr>\n",
       "      <th>1</th>\n",
       "      <td>14.0</td>\n",
       "      <td>84.0</td>\n",
       "      <td>27.0</td>\n",
       "      <td>6235.0</td>\n",
       "      <td>300.0</td>\n",
       "      <td>38.0</td>\n",
       "      <td>2192.0</td>\n",
       "      <td>615.0</td>\n",
       "      <td>147.0</td>\n",
       "    </tr>\n",
       "    <tr>\n",
       "      <th rowspan=\"2\" valign=\"top\">1</th>\n",
       "      <th>0</th>\n",
       "      <td>16.0</td>\n",
       "      <td>68.0</td>\n",
       "      <td>13.0</td>\n",
       "      <td>12732.0</td>\n",
       "      <td>1283.0</td>\n",
       "      <td>139.0</td>\n",
       "      <td>2127.0</td>\n",
       "      <td>774.0</td>\n",
       "      <td>189.0</td>\n",
       "    </tr>\n",
       "    <tr>\n",
       "      <th>1</th>\n",
       "      <td>18.0</td>\n",
       "      <td>77.0</td>\n",
       "      <td>33.0</td>\n",
       "      <td>NaN</td>\n",
       "      <td>NaN</td>\n",
       "      <td>NaN</td>\n",
       "      <td>2157.0</td>\n",
       "      <td>467.0</td>\n",
       "      <td>142.0</td>\n",
       "    </tr>\n",
       "    <tr>\n",
       "      <th rowspan=\"4\" valign=\"top\">3</th>\n",
       "      <th rowspan=\"2\" valign=\"top\">0</th>\n",
       "      <th>0</th>\n",
       "      <td>5.0</td>\n",
       "      <td>18.0</td>\n",
       "      <td>8.0</td>\n",
       "      <td>3720.0</td>\n",
       "      <td>567.0</td>\n",
       "      <td>73.0</td>\n",
       "      <td>759.0</td>\n",
       "      <td>400.0</td>\n",
       "      <td>100.0</td>\n",
       "    </tr>\n",
       "    <tr>\n",
       "      <th>1</th>\n",
       "      <td>5.0</td>\n",
       "      <td>16.0</td>\n",
       "      <td>13.0</td>\n",
       "      <td>2523.0</td>\n",
       "      <td>131.0</td>\n",
       "      <td>8.0</td>\n",
       "      <td>910.0</td>\n",
       "      <td>251.0</td>\n",
       "      <td>52.0</td>\n",
       "    </tr>\n",
       "    <tr>\n",
       "      <th rowspan=\"2\" valign=\"top\">1</th>\n",
       "      <th>0</th>\n",
       "      <td>6.0</td>\n",
       "      <td>18.0</td>\n",
       "      <td>5.0</td>\n",
       "      <td>5145.0</td>\n",
       "      <td>525.0</td>\n",
       "      <td>52.0</td>\n",
       "      <td>882.0</td>\n",
       "      <td>303.0</td>\n",
       "      <td>70.0</td>\n",
       "    </tr>\n",
       "    <tr>\n",
       "      <th>1</th>\n",
       "      <td>5.0</td>\n",
       "      <td>25.0</td>\n",
       "      <td>7.0</td>\n",
       "      <td>NaN</td>\n",
       "      <td>NaN</td>\n",
       "      <td>NaN</td>\n",
       "      <td>904.0</td>\n",
       "      <td>190.0</td>\n",
       "      <td>50.0</td>\n",
       "    </tr>\n",
       "  </tbody>\n",
       "</table>\n",
       "</div>"
      ],
      "text/plain": [
       "Pesticide_Use_Category         1                    2                      3  \\\n",
       "Crop_Damage                    0     1     2        0       1      2       0   \n",
       "Season Soil_Type Crop_Type                                                     \n",
       "1      0         0           7.0  39.0   7.0   5720.0   853.0   86.0  1218.0   \n",
       "                 1          11.0  45.0  18.0   3832.0   210.0   22.0  1300.0   \n",
       "       1         0           5.0  50.0   8.0   7706.0   789.0   92.0  1340.0   \n",
       "                 1           8.0  46.0  13.0      NaN     NaN    NaN  1346.0   \n",
       "2      0         0          18.0  68.0  13.0   9345.0  1414.0  169.0  2027.0   \n",
       "                 1          14.0  84.0  27.0   6235.0   300.0   38.0  2192.0   \n",
       "       1         0          16.0  68.0  13.0  12732.0  1283.0  139.0  2127.0   \n",
       "                 1          18.0  77.0  33.0      NaN     NaN    NaN  2157.0   \n",
       "3      0         0           5.0  18.0   8.0   3720.0   567.0   73.0   759.0   \n",
       "                 1           5.0  16.0  13.0   2523.0   131.0    8.0   910.0   \n",
       "       1         0           6.0  18.0   5.0   5145.0   525.0   52.0   882.0   \n",
       "                 1           5.0  25.0   7.0      NaN     NaN    NaN   904.0   \n",
       "\n",
       "Pesticide_Use_Category                    \n",
       "Crop_Damage                     1      2  \n",
       "Season Soil_Type Crop_Type                \n",
       "1      0         0          626.0  170.0  \n",
       "                 1          351.0   75.0  \n",
       "       1         0          444.0  109.0  \n",
       "                 1          295.0   61.0  \n",
       "2      0         0          965.0  304.0  \n",
       "                 1          615.0  147.0  \n",
       "       1         0          774.0  189.0  \n",
       "                 1          467.0  142.0  \n",
       "3      0         0          400.0  100.0  \n",
       "                 1          251.0   52.0  \n",
       "       1         0          303.0   70.0  \n",
       "                 1          190.0   50.0  "
      ]
     },
     "execution_count": 63,
     "metadata": {},
     "output_type": "execute_result"
    }
   ],
   "source": [
    "data.pivot_table('count', ['Season','Soil_Type','Crop_Type'], ['Pesticide_Use_Category','Crop_Damage'],aggfunc='sum')"
   ]
  },
  {
   "cell_type": "markdown",
   "id": "f6f2cc40",
   "metadata": {},
   "source": [
    "### MODEL BUILDING"
   ]
  },
  {
   "cell_type": "markdown",
   "id": "c0ddefa1",
   "metadata": {},
   "source": [
    "All the columns except Crop Damage are stored under feature_table\n",
    "\n",
    "And Crop Damage values are stored are in target_values. StandardScaler is used from preprocessing of sklearn. It changes the values such that the standard deviation distribution from the mean equals one.Most values lies b/w -1 & 1"
   ]
  },
  {
   "cell_type": "code",
   "execution_count": 66,
   "id": "1f35c2d6",
   "metadata": {},
   "outputs": [],
   "source": [
    "feature_table = data[[\"Estimated_Insects_Count\",\"Crop_Type\",\"Soil_Type\",\"Pesticide_Use_Category\",\"Number_Doses_Week\",\"Number_Weeks_Used\",\"Number_Weeks_Quit\",\"Season\"]]"
   ]
  },
  {
   "cell_type": "code",
   "execution_count": 69,
   "id": "4fe3b604",
   "metadata": {},
   "outputs": [],
   "source": [
    "from sklearn import preprocessing\n",
    "ft = preprocessing.StandardScaler().fit(feature_table)\n",
    "feature_table = ft.transform(feature_table)\n",
    "target_values = data[\"Crop_Damage\"].values"
   ]
  },
  {
   "cell_type": "code",
   "execution_count": 72,
   "id": "8fa570be",
   "metadata": {},
   "outputs": [
    {
     "data": {
      "text/plain": [
       "array([0.7741391 , 0.75962188, 0.75320729, 0.75557056, 0.75388251,\n",
       "       0.7535449 , 0.75422012, 0.74949359, 0.76873734, 0.76232275,\n",
       "       0.743079  , 0.75860905, 0.74544227, 0.74409183, 0.73902768,\n",
       "       0.76063471, 0.7501688 , 0.7498312 , 0.7498312 , 0.74611749,\n",
       "       0.74510466, 0.74814315, 0.74442944, 0.74780554, 0.75118163,\n",
       "       0.75658339, 0.74848076, 0.74375422, 0.75751435, 0.75312394])"
      ]
     },
     "execution_count": 72,
     "metadata": {},
     "output_type": "execute_result"
    }
   ],
   "source": [
    "from sklearn.tree import DecisionTreeClassifier\n",
    "dt=DecisionTreeClassifier('entropy',random_state=7)\n",
    "kfold = KFold(n_splits=30, random_state=7,shuffle=True)\n",
    "scores1 =cross_val_score(dt, feature_table, target_values, scoring='accuracy', cv=kfold)\n",
    "scores1"
   ]
  },
  {
   "cell_type": "code",
   "execution_count": 73,
   "id": "4cba9f58",
   "metadata": {},
   "outputs": [
    {
     "data": {
      "text/plain": [
       "(0.7522564780362128, 0.007647156275085259)"
      ]
     },
     "execution_count": 73,
     "metadata": {},
     "output_type": "execute_result"
    }
   ],
   "source": [
    "scores1.mean(), scores1.std()"
   ]
  },
  {
   "cell_type": "code",
   "execution_count": 74,
   "id": "7b9e7679",
   "metadata": {},
   "outputs": [
    {
     "data": {
      "text/plain": [
       "array([0.83794733, 0.8193788 , 0.81397704, 0.81431465, 0.81971641,\n",
       "       0.81971641, 0.82072924, 0.81498987, 0.8227549 , 0.8264686 ,\n",
       "       0.8126266 , 0.83051992, 0.81060095, 0.81667792, 0.81060095,\n",
       "       0.82207968, 0.83288319, 0.82140446, 0.82174207, 0.82140446,\n",
       "       0.82241729, 0.81296421, 0.81769075, 0.81465226, 0.82545577,\n",
       "       0.82781904, 0.82613099, 0.80823768, 0.82066869, 0.81864235])"
      ]
     },
     "execution_count": 74,
     "metadata": {},
     "output_type": "execute_result"
    }
   ],
   "source": [
    "from sklearn.ensemble import RandomForestClassifier\n",
    "rf=RandomForestClassifier()\n",
    "kfold = KFold(n_splits=30, random_state=7,shuffle=True)\n",
    "scores2=cross_val_score(rf, feature_table, target_values, scoring='accuracy', cv=kfold)\n",
    "scores2"
   ]
  },
  {
   "cell_type": "code",
   "execution_count": 75,
   "id": "7327236f",
   "metadata": {},
   "outputs": [
    {
     "data": {
      "text/plain": [
       "(0.8201737487175733, 0.006717790311209124)"
      ]
     },
     "execution_count": 75,
     "metadata": {},
     "output_type": "execute_result"
    }
   ],
   "source": [
    "scores2.mean(),scores2.std()"
   ]
  },
  {
   "cell_type": "markdown",
   "id": "80bbeb6c",
   "metadata": {},
   "source": [
    "### TEST DATA SAMPLE"
   ]
  },
  {
   "cell_type": "code",
   "execution_count": 76,
   "id": "790339b4",
   "metadata": {},
   "outputs": [],
   "source": [
    "test=pd.read_csv(\"sample/test_pFkWwen.csv\")"
   ]
  },
  {
   "cell_type": "code",
   "execution_count": 77,
   "id": "ab41b7a9",
   "metadata": {},
   "outputs": [
    {
     "data": {
      "text/plain": [
       "ID                            0\n",
       "Estimated_Insects_Count       0\n",
       "Crop_Type                     0\n",
       "Soil_Type                     0\n",
       "Pesticide_Use_Category        0\n",
       "Number_Doses_Week             0\n",
       "Number_Weeks_Used          5893\n",
       "Number_Weeks_Quit             0\n",
       "Season                        0\n",
       "dtype: int64"
      ]
     },
     "execution_count": 77,
     "metadata": {},
     "output_type": "execute_result"
    }
   ],
   "source": [
    "test.isnull().sum()"
   ]
  },
  {
   "cell_type": "markdown",
   "id": "31d3bf50",
   "metadata": {},
   "source": [
    "we can safely assume that the test data will require the same treatment as the previous dataset"
   ]
  },
  {
   "cell_type": "code",
   "execution_count": 80,
   "id": "38b80471",
   "metadata": {},
   "outputs": [],
   "source": [
    "for i in range(0,len(test)):\n",
    "    if pd.isnull(test['Number_Weeks_Used'][i])==True:\n",
    "        if (test['Pesticide_Use_Category'][i] == 1):\n",
    "            test['Number_Weeks_Used'][i] = 0.0\n",
    "        else:\n",
    "            test['Number_Weeks_Used'][i] = 20.0"
   ]
  },
  {
   "cell_type": "code",
   "execution_count": 81,
   "id": "1f9f044a",
   "metadata": {},
   "outputs": [],
   "source": [
    "test.loc[test['Estimated_Insects_Count']>3500,'Estimated_Insects_Count']=np.median(test['Estimated_Insects_Count'])\n",
    "test.loc[test['Number_Doses_Week']>69,'Number_Doses_Week']=np.mean(test['Number_Doses_Week'])\n",
    "test.loc[test['Number_Weeks_Used']>60,'Number_Weeks_Used']=np.mean(test['Number_Weeks_Used'])\n",
    "test.loc[test['Number_Weeks_Quit']>40,'Number_Weeks_Quit']=np.mean(test['Number_Weeks_Quit'])"
   ]
  },
  {
   "cell_type": "code",
   "execution_count": 82,
   "id": "d6543caa",
   "metadata": {},
   "outputs": [],
   "source": [
    "test=test.astype({'Estimated_Insects_Count':'int64','Number_Doses_Week':'int64','Number_Weeks_Used':'int64','Number_Weeks_Quit':'int64'})"
   ]
  },
  {
   "cell_type": "markdown",
   "id": "cc6272f0",
   "metadata": {},
   "source": [
    "### Prediction"
   ]
  },
  {
   "cell_type": "code",
   "execution_count": 83,
   "id": "37df40a5",
   "metadata": {},
   "outputs": [],
   "source": [
    "test_features=test[[\"Estimated_Insects_Count\",\"Crop_Type\",\"Soil_Type\",\"Pesticide_Use_Category\",\"Number_Doses_Week\",\"Number_Weeks_Used\",\"Number_Weeks_Quit\",\"Season\"]]"
   ]
  },
  {
   "cell_type": "code",
   "execution_count": 84,
   "id": "5a2af40c",
   "metadata": {},
   "outputs": [],
   "source": [
    "test_features = ft.transform(test_features)"
   ]
  },
  {
   "cell_type": "markdown",
   "id": "8861d894",
   "metadata": {},
   "source": [
    "VOTING CLASSIFIER\n",
    "\n",
    "It is a wrapper for set of different algorithms that are trained and valuated in parallel in order to exploit the different peculiarities of each algorithm. It chooses the best predicting model for the dataset.It yields better performance than any single algorithm\n",
    "\n",
    "intend to input Decison tree and Random forest "
   ]
  },
  {
   "cell_type": "code",
   "execution_count": 85,
   "id": "cd74678e",
   "metadata": {},
   "outputs": [],
   "source": [
    "from sklearn.ensemble import VotingClassifier"
   ]
  },
  {
   "cell_type": "code",
   "execution_count": 86,
   "id": "ec988ba9",
   "metadata": {},
   "outputs": [
    {
     "data": {
      "text/plain": [
       "array([0.83862255, 0.82343011, 0.81431465, 0.81634031, 0.82781904,\n",
       "       0.82680621, 0.82343011, 0.81701553, 0.82781904, 0.82950709,\n",
       "       0.82005402, 0.83423363, 0.81465226, 0.81634031, 0.80992573,\n",
       "       0.82343011, 0.83423363, 0.82072924, 0.82174207, 0.82511816,\n",
       "       0.82140446, 0.81904119, 0.81971641, 0.81735314, 0.82343011,\n",
       "       0.8298447 , 0.82950709, 0.80958812, 0.82776089, 0.82100642])"
      ]
     },
     "execution_count": 86,
     "metadata": {},
     "output_type": "execute_result"
    }
   ],
   "source": [
    "vc = VotingClassifier(estimators=[('dt',dt),('rf',rf)],voting='hard')\n",
    "result=cross_val_score(vc, feature_table, target_values, scoring='accuracy', cv=kfold)\n",
    "result"
   ]
  },
  {
   "cell_type": "code",
   "execution_count": 91,
   "id": "36f6666c",
   "metadata": {},
   "outputs": [
    {
     "data": {
      "text/plain": [
       "(0.8228072109757859, 0.006871267250865132)"
      ]
     },
     "execution_count": 91,
     "metadata": {},
     "output_type": "execute_result"
    }
   ],
   "source": [
    "result.mean(),result.std()"
   ]
  },
  {
   "cell_type": "code",
   "execution_count": 90,
   "id": "ab46398b",
   "metadata": {},
   "outputs": [],
   "source": [
    "# Predicting the test target values i.e. Crop_Damage in test dataset\n",
    "vc=vc.fit(feature_table,target_values)"
   ]
  },
  {
   "cell_type": "code",
   "execution_count": 92,
   "id": "1be6c4d8",
   "metadata": {},
   "outputs": [],
   "source": [
    "test_Crop_Damage = vc.predict(test_features)"
   ]
  },
  {
   "cell_type": "code",
   "execution_count": 93,
   "id": "87fa3fa7",
   "metadata": {},
   "outputs": [],
   "source": [
    "solution = pd.DataFrame(test_Crop_Damage)"
   ]
  },
  {
   "cell_type": "code",
   "execution_count": 95,
   "id": "0233c0b2",
   "metadata": {},
   "outputs": [],
   "source": [
    "id = test['ID']\n",
    "sample_solution = pd.concat([id,solution],axis=1)\n",
    "sample_solution.columns = ['ID','Crop_Damage']"
   ]
  },
  {
   "cell_type": "code",
   "execution_count": 96,
   "id": "32f45870",
   "metadata": {},
   "outputs": [
    {
     "data": {
      "text/html": [
       "<div>\n",
       "<style scoped>\n",
       "    .dataframe tbody tr th:only-of-type {\n",
       "        vertical-align: middle;\n",
       "    }\n",
       "\n",
       "    .dataframe tbody tr th {\n",
       "        vertical-align: top;\n",
       "    }\n",
       "\n",
       "    .dataframe thead th {\n",
       "        text-align: right;\n",
       "    }\n",
       "</style>\n",
       "<table border=\"1\" class=\"dataframe\">\n",
       "  <thead>\n",
       "    <tr style=\"text-align: right;\">\n",
       "      <th></th>\n",
       "      <th>ID</th>\n",
       "      <th>Crop_Damage</th>\n",
       "    </tr>\n",
       "  </thead>\n",
       "  <tbody>\n",
       "    <tr>\n",
       "      <th>0</th>\n",
       "      <td>F00000002</td>\n",
       "      <td>0</td>\n",
       "    </tr>\n",
       "    <tr>\n",
       "      <th>1</th>\n",
       "      <td>F00000007</td>\n",
       "      <td>0</td>\n",
       "    </tr>\n",
       "    <tr>\n",
       "      <th>2</th>\n",
       "      <td>F00000011</td>\n",
       "      <td>0</td>\n",
       "    </tr>\n",
       "    <tr>\n",
       "      <th>3</th>\n",
       "      <td>F00000013</td>\n",
       "      <td>0</td>\n",
       "    </tr>\n",
       "    <tr>\n",
       "      <th>4</th>\n",
       "      <td>F00000014</td>\n",
       "      <td>0</td>\n",
       "    </tr>\n",
       "    <tr>\n",
       "      <th>...</th>\n",
       "      <td>...</td>\n",
       "      <td>...</td>\n",
       "    </tr>\n",
       "    <tr>\n",
       "      <th>59305</th>\n",
       "      <td>F00155937</td>\n",
       "      <td>0</td>\n",
       "    </tr>\n",
       "    <tr>\n",
       "      <th>59306</th>\n",
       "      <td>F00155940</td>\n",
       "      <td>0</td>\n",
       "    </tr>\n",
       "    <tr>\n",
       "      <th>59307</th>\n",
       "      <td>F00155941</td>\n",
       "      <td>0</td>\n",
       "    </tr>\n",
       "    <tr>\n",
       "      <th>59308</th>\n",
       "      <td>F00155943</td>\n",
       "      <td>0</td>\n",
       "    </tr>\n",
       "    <tr>\n",
       "      <th>59309</th>\n",
       "      <td>F00155944</td>\n",
       "      <td>0</td>\n",
       "    </tr>\n",
       "  </tbody>\n",
       "</table>\n",
       "<p>59310 rows × 2 columns</p>\n",
       "</div>"
      ],
      "text/plain": [
       "              ID  Crop_Damage\n",
       "0      F00000002            0\n",
       "1      F00000007            0\n",
       "2      F00000011            0\n",
       "3      F00000013            0\n",
       "4      F00000014            0\n",
       "...          ...          ...\n",
       "59305  F00155937            0\n",
       "59306  F00155940            0\n",
       "59307  F00155941            0\n",
       "59308  F00155943            0\n",
       "59309  F00155944            0\n",
       "\n",
       "[59310 rows x 2 columns]"
      ]
     },
     "execution_count": 96,
     "metadata": {},
     "output_type": "execute_result"
    }
   ],
   "source": [
    "sample_solution"
   ]
  },
  {
   "cell_type": "code",
   "execution_count": null,
   "id": "e87d6250",
   "metadata": {},
   "outputs": [],
   "source": []
  }
 ],
 "metadata": {
  "kernelspec": {
   "display_name": "Python 3 (ipykernel)",
   "language": "python",
   "name": "python3"
  },
  "language_info": {
   "codemirror_mode": {
    "name": "ipython",
    "version": 3
   },
   "file_extension": ".py",
   "mimetype": "text/x-python",
   "name": "python",
   "nbconvert_exporter": "python",
   "pygments_lexer": "ipython3",
   "version": "3.9.7"
  }
 },
 "nbformat": 4,
 "nbformat_minor": 5
}
